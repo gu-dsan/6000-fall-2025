{
  "cells": [
    {
      "cell_type": "markdown",
      "source": [
        "In interactive notebook, the `spark` object is already created.\n",
        "Instructors tested with 1 driver, 6 executors of small e4 (24 cores, 192GB memory)"
      ],
      "metadata": {
        "nteract": {
          "transient": {
            "deleting": false
          }
        }
      }
    },
    {
      "cell_type": "markdown",
      "source": [
        "### Launch spark environment"
      ],
      "metadata": {
        "nteract": {
          "transient": {
            "deleting": false
          }
        }
      }
    },
    {
      "cell_type": "code",
      "source": [
        "spark"
      ],
      "outputs": [
        {
          "output_type": "display_data",
          "data": {
            "application/vnd.livy.statement-meta+json": {
              "spark_pool": "b1cc13f1-0ee0-4cd0-88e0-b9f032c88fe6",
              "statement_id": 7,
              "statement_ids": [
                7
              ],
              "state": "finished",
              "livy_statement_state": "available",
              "spark_jobs": {
                "numbers": {
                  "RUNNING": 0,
                  "SUCCEEDED": 0,
                  "FAILED": 0,
                  "UNKNOWN": 0
                },
                "jobs": [],
                "limit": 20,
                "rule": "ALL_DESC"
              },
              "session_id": "1",
              "normalized_state": "finished",
              "queued_time": "2024-11-11T17:11:15.9338924Z",
              "session_start_time": null,
              "execution_start_time": "2024-11-11T17:11:16.1911929Z",
              "execution_finish_time": "2024-11-11T17:11:16.5199587Z",
              "parent_msg_id": "9bced358-aa16-4f5a-a7a9-c9aa87a9a37a"
            },
            "text/plain": "StatementMeta(b1cc13f1-0ee0-4cd0-88e0-b9f032c88fe6, 1, 7, Finished, Available, Finished)"
          },
          "metadata": {}
        },
        {
          "output_type": "execute_result",
          "execution_count": 13,
          "data": {
            "text/plain": "<pyspark.sql.session.SparkSession at 0x7f18b32eb580>",
            "text/html": "\n            <div>\n                <p><b>SparkSession - hive</b></p>\n                \n        <div>\n            <p><b>SparkContext</b></p>\n\n            <p><a href=\"http://vm-e4608809:35917\">Spark UI</a></p>\n\n            <dl>\n              <dt>Version</dt>\n                <dd><code>v3.3.1.5.2.20240522.3</code></dd>\n              <dt>Master</dt>\n                <dd><code>yarn</code></dd>\n              <dt>AppName</dt>\n                <dd><code>Azure ML Experiment</code></dd>\n            </dl>\n        </div>\n        \n            </div>\n        "
          },
          "metadata": {}
        }
      ],
      "execution_count": 2,
      "metadata": {
        "jupyter": {
          "source_hidden": false,
          "outputs_hidden": false
        },
        "nteract": {
          "transient": {
            "deleting": false
          }
        },
        "gather": {
          "logged": 1731345076661
        }
      }
    },
    {
      "cell_type": "markdown",
      "source": [
        "### Set up data configuration"
      ],
      "metadata": {
        "nteract": {
          "transient": {
            "deleting": false
          }
        }
      }
    },
    {
      "cell_type": "code",
      "source": [
        "blob_account_name = \"dsan6000fall2024\"\n",
        "blob_container_name = \"reddit-project\"\n",
        "wasbs_base_url = (\n",
        "    f\"wasbs://{blob_container_name}@{blob_account_name}.blob.core.windows.net/\"\n",
        ")\n"
      ],
      "outputs": [
        {
          "output_type": "display_data",
          "data": {
            "application/vnd.livy.statement-meta+json": {
              "spark_pool": "b1cc13f1-0ee0-4cd0-88e0-b9f032c88fe6",
              "statement_id": 8,
              "statement_ids": [
                8
              ],
              "state": "finished",
              "livy_statement_state": "available",
              "spark_jobs": {
                "numbers": {
                  "RUNNING": 0,
                  "SUCCEEDED": 0,
                  "FAILED": 0,
                  "UNKNOWN": 0
                },
                "jobs": [],
                "limit": 20,
                "rule": "ALL_DESC"
              },
              "session_id": "1",
              "normalized_state": "finished",
              "queued_time": "2024-11-11T17:11:20.0219928Z",
              "session_start_time": null,
              "execution_start_time": "2024-11-11T17:11:20.1657312Z",
              "execution_finish_time": "2024-11-11T17:11:20.4673279Z",
              "parent_msg_id": "5aa1f4d7-8e38-48fc-95c8-b8ae4f4f1480"
            },
            "text/plain": "StatementMeta(b1cc13f1-0ee0-4cd0-88e0-b9f032c88fe6, 1, 8, Finished, Available, Finished)"
          },
          "metadata": {}
        }
      ],
      "execution_count": 3,
      "metadata": {
        "jupyter": {
          "source_hidden": false,
          "outputs_hidden": false
        },
        "nteract": {
          "transient": {
            "deleting": false
          }
        },
        "gather": {
          "logged": 1731345080559
        }
      }
    },
    {
      "cell_type": "markdown",
      "source": [
        "#### Reading in single parquet file"
      ],
      "metadata": {
        "nteract": {
          "transient": {
            "deleting": false
          }
        }
      }
    },
    {
      "cell_type": "code",
      "source": [
        "comments_path = \"202306-202407/comments/\"\n",
        "submissions_path = \"202306-202407/submissions/\""
      ],
      "outputs": [
        {
          "output_type": "display_data",
          "data": {
            "application/vnd.livy.statement-meta+json": {
              "spark_pool": "b1cc13f1-0ee0-4cd0-88e0-b9f032c88fe6",
              "statement_id": 9,
              "statement_ids": [
                9
              ],
              "state": "finished",
              "livy_statement_state": "available",
              "spark_jobs": {
                "numbers": {
                  "RUNNING": 0,
                  "SUCCEEDED": 0,
                  "FAILED": 0,
                  "UNKNOWN": 0
                },
                "jobs": [],
                "limit": 20,
                "rule": "ALL_DESC"
              },
              "session_id": "1",
              "normalized_state": "finished",
              "queued_time": "2024-11-11T17:11:24.7129465Z",
              "session_start_time": null,
              "execution_start_time": "2024-11-11T17:11:24.8575332Z",
              "execution_finish_time": "2024-11-11T17:11:25.1781658Z",
              "parent_msg_id": "3e5c911c-0758-48f4-b072-a2a87019bc24"
            },
            "text/plain": "StatementMeta(b1cc13f1-0ee0-4cd0-88e0-b9f032c88fe6, 1, 9, Finished, Available, Finished)"
          },
          "metadata": {}
        }
      ],
      "execution_count": 4,
      "metadata": {
        "jupyter": {
          "source_hidden": false,
          "outputs_hidden": false
        },
        "nteract": {
          "transient": {
            "deleting": false
          }
        },
        "gather": {
          "logged": 1731345085296
        }
      }
    },
    {
      "cell_type": "code",
      "source": [
        "# Test on a single file only (random file)\n",
        "\n",
        "comments_single = \"yyyy=2023/mm=11/comments_RC_2023-11.zst_9.parquet\"\n",
        "submissions_single = \"yyyy=2023/mm=11/submissions_RS_2023-11.zst_36.parquet\""
      ],
      "outputs": [
        {
          "output_type": "display_data",
          "data": {
            "application/vnd.livy.statement-meta+json": {
              "spark_pool": "b1cc13f1-0ee0-4cd0-88e0-b9f032c88fe6",
              "statement_id": 10,
              "statement_ids": [
                10
              ],
              "state": "finished",
              "livy_statement_state": "available",
              "spark_jobs": {
                "numbers": {
                  "RUNNING": 0,
                  "SUCCEEDED": 0,
                  "FAILED": 0,
                  "UNKNOWN": 0
                },
                "jobs": [],
                "limit": 20,
                "rule": "ALL_DESC"
              },
              "session_id": "1",
              "normalized_state": "finished",
              "queued_time": "2024-11-11T17:11:29.3335596Z",
              "session_start_time": null,
              "execution_start_time": "2024-11-11T17:11:29.4726953Z",
              "execution_finish_time": "2024-11-11T17:11:29.788636Z",
              "parent_msg_id": "7b1dd4d4-f021-48d8-8a15-09c8fc1802d3"
            },
            "text/plain": "StatementMeta(b1cc13f1-0ee0-4cd0-88e0-b9f032c88fe6, 1, 10, Finished, Available, Finished)"
          },
          "metadata": {}
        }
      ],
      "execution_count": 5,
      "metadata": {
        "jupyter": {
          "source_hidden": false,
          "outputs_hidden": false
        },
        "nteract": {
          "transient": {
            "deleting": false
          }
        },
        "gather": {
          "logged": 1731345089877
        }
      }
    },
    {
      "cell_type": "code",
      "source": [
        "comments_single_df = spark.read.parquet(f\"{wasbs_base_url}{comments_path}{comments_single}\")\n",
        "submissions_single_df = spark.read.parquet(f\"{wasbs_base_url}{submissions_path}{submissions_single}\")"
      ],
      "outputs": [
        {
          "output_type": "display_data",
          "data": {
            "application/vnd.livy.statement-meta+json": {
              "spark_pool": "b1cc13f1-0ee0-4cd0-88e0-b9f032c88fe6",
              "statement_id": 11,
              "statement_ids": [
                11
              ],
              "state": "finished",
              "livy_statement_state": "available",
              "spark_jobs": {
                "numbers": {
                  "RUNNING": 0,
                  "SUCCEEDED": 2,
                  "FAILED": 0,
                  "UNKNOWN": 0
                },
                "jobs": [
                  {
                    "displayName": "parquet at NativeMethodAccessorImpl.java:0",
                    "dataWritten": 0,
                    "dataRead": 0,
                    "rowCount": 0,
                    "usageDescription": "",
                    "jobId": 1,
                    "name": "parquet at NativeMethodAccessorImpl.java:0",
                    "description": "Job group for statement 11:\ncomments_single_df = spark.read.parquet(f\"{wasbs_base_url}{comments_path}{comments_single}\")\nsubmissions_single_df = spark.read.parquet(f\"{wasbs_base_url}{submissions_path}{submissions_single}\")",
                    "submissionTime": "2024-11-11T17:11:46.621GMT",
                    "completionTime": "2024-11-11T17:11:53.287GMT",
                    "stageIds": [
                      1
                    ],
                    "jobGroup": "11",
                    "status": "SUCCEEDED",
                    "numTasks": 1,
                    "numActiveTasks": 0,
                    "numCompletedTasks": 1,
                    "numSkippedTasks": 0,
                    "numFailedTasks": 0,
                    "numKilledTasks": 0,
                    "numCompletedIndices": 1,
                    "numActiveStages": 0,
                    "numCompletedStages": 1,
                    "numSkippedStages": 0,
                    "numFailedStages": 0,
                    "killedTasksSummary": {}
                  },
                  {
                    "displayName": "parquet at NativeMethodAccessorImpl.java:0",
                    "dataWritten": 0,
                    "dataRead": 0,
                    "rowCount": 0,
                    "usageDescription": "",
                    "jobId": 0,
                    "name": "parquet at NativeMethodAccessorImpl.java:0",
                    "description": "Job group for statement 11:\ncomments_single_df = spark.read.parquet(f\"{wasbs_base_url}{comments_path}{comments_single}\")\nsubmissions_single_df = spark.read.parquet(f\"{wasbs_base_url}{submissions_path}{submissions_single}\")",
                    "submissionTime": "2024-11-11T17:11:35.273GMT",
                    "completionTime": "2024-11-11T17:11:45.057GMT",
                    "stageIds": [
                      0
                    ],
                    "jobGroup": "11",
                    "status": "SUCCEEDED",
                    "numTasks": 1,
                    "numActiveTasks": 0,
                    "numCompletedTasks": 1,
                    "numSkippedTasks": 0,
                    "numFailedTasks": 0,
                    "numKilledTasks": 0,
                    "numCompletedIndices": 1,
                    "numActiveStages": 0,
                    "numCompletedStages": 1,
                    "numSkippedStages": 0,
                    "numFailedStages": 0,
                    "killedTasksSummary": {}
                  }
                ],
                "limit": 20,
                "rule": "ALL_DESC"
              },
              "session_id": "1",
              "normalized_state": "finished",
              "queued_time": "2024-11-11T17:11:33.9971248Z",
              "session_start_time": null,
              "execution_start_time": "2024-11-11T17:11:34.1743784Z",
              "execution_finish_time": "2024-11-11T17:11:53.6766291Z",
              "parent_msg_id": "d614bf7e-d3d7-4bce-a3bc-0b4088b299cb"
            },
            "text/plain": "StatementMeta(b1cc13f1-0ee0-4cd0-88e0-b9f032c88fe6, 1, 11, Finished, Available, Finished)"
          },
          "metadata": {}
        }
      ],
      "execution_count": 6,
      "metadata": {
        "jupyter": {
          "source_hidden": false,
          "outputs_hidden": false
        },
        "nteract": {
          "transient": {
            "deleting": false
          }
        },
        "gather": {
          "logged": 1731345113790
        }
      }
    },
    {
      "cell_type": "markdown",
      "source": [
        "#### Initial exploration\n",
        "\n",
        "- Schema\n",
        "- Row count"
      ],
      "metadata": {
        "nteract": {
          "transient": {
            "deleting": false
          }
        }
      }
    },
    {
      "cell_type": "code",
      "source": [
        "comments_single_df.printSchema()"
      ],
      "outputs": [
        {
          "output_type": "display_data",
          "data": {
            "application/vnd.livy.statement-meta+json": {
              "spark_pool": "b1cc13f1-0ee0-4cd0-88e0-b9f032c88fe6",
              "statement_id": 12,
              "statement_ids": [
                12
              ],
              "state": "finished",
              "livy_statement_state": "available",
              "spark_jobs": {
                "numbers": {
                  "RUNNING": 0,
                  "SUCCEEDED": 0,
                  "FAILED": 0,
                  "UNKNOWN": 0
                },
                "jobs": [],
                "limit": 20,
                "rule": "ALL_DESC"
              },
              "session_id": "1",
              "normalized_state": "finished",
              "queued_time": "2024-11-11T17:12:02.1155542Z",
              "session_start_time": null,
              "execution_start_time": "2024-11-11T17:12:02.2423271Z",
              "execution_finish_time": "2024-11-11T17:12:02.5429026Z",
              "parent_msg_id": "4ffa5829-c8c5-4b5c-8b4a-eb3289b96b91"
            },
            "text/plain": "StatementMeta(b1cc13f1-0ee0-4cd0-88e0-b9f032c88fe6, 1, 12, Finished, Available, Finished)"
          },
          "metadata": {}
        },
        {
          "output_type": "stream",
          "name": "stdout",
          "text": "root\n |-- author: string (nullable = true)\n |-- author_flair_css_class: string (nullable = true)\n |-- author_flair_text: string (nullable = true)\n |-- body: string (nullable = true)\n |-- controversiality: long (nullable = true)\n |-- created_utc: long (nullable = true)\n |-- distinguished: string (nullable = true)\n |-- edited: double (nullable = true)\n |-- gilded: long (nullable = true)\n |-- id: string (nullable = true)\n |-- link_id: string (nullable = true)\n |-- parent_id: string (nullable = true)\n |-- retrieved_on: long (nullable = true)\n |-- score: long (nullable = true)\n |-- stickied: boolean (nullable = true)\n |-- subreddit: string (nullable = true)\n |-- subreddit_id: string (nullable = true)\n\n"
        }
      ],
      "execution_count": 7,
      "metadata": {
        "jupyter": {
          "source_hidden": false,
          "outputs_hidden": false
        },
        "nteract": {
          "transient": {
            "deleting": false
          }
        },
        "gather": {
          "logged": 1731345122662
        }
      }
    },
    {
      "cell_type": "code",
      "source": [
        "comments_row_count = comments_single_df.count()\n",
        "comment_col_count = len(comments_single_df.columns)\n",
        "print(f\"shape of the comments dataframe is {comments_row_count:,}x{comment_col_count}\")"
      ],
      "outputs": [
        {
          "output_type": "display_data",
          "data": {
            "application/vnd.livy.statement-meta+json": {
              "spark_pool": "b1cc13f1-0ee0-4cd0-88e0-b9f032c88fe6",
              "statement_id": 13,
              "statement_ids": [
                13
              ],
              "state": "finished",
              "livy_statement_state": "available",
              "spark_jobs": {
                "numbers": {
                  "RUNNING": 0,
                  "SUCCEEDED": 2,
                  "FAILED": 0,
                  "UNKNOWN": 0
                },
                "jobs": [
                  {
                    "displayName": "count at NativeMethodAccessorImpl.java:0",
                    "dataWritten": 0,
                    "dataRead": 1347,
                    "rowCount": 24,
                    "usageDescription": "",
                    "jobId": 3,
                    "name": "count at NativeMethodAccessorImpl.java:0",
                    "description": "Job group for statement 13:\ncomments_row_count = comments_single_df.count()\ncomment_col_count = len(comments_single_df.columns)\nprint(f\"shape of the comments dataframe is {comments_row_count:,}x{comment_col_count}\")",
                    "submissionTime": "2024-11-11T17:12:21.216GMT",
                    "completionTime": "2024-11-11T17:12:21.831GMT",
                    "stageIds": [
                      3,
                      4
                    ],
                    "jobGroup": "13",
                    "status": "SUCCEEDED",
                    "numTasks": 25,
                    "numActiveTasks": 0,
                    "numCompletedTasks": 1,
                    "numSkippedTasks": 24,
                    "numFailedTasks": 0,
                    "numKilledTasks": 0,
                    "numCompletedIndices": 1,
                    "numActiveStages": 0,
                    "numCompletedStages": 1,
                    "numSkippedStages": 1,
                    "numFailedStages": 0,
                    "killedTasksSummary": {}
                  },
                  {
                    "displayName": "count at NativeMethodAccessorImpl.java:0",
                    "dataWritten": 1347,
                    "dataRead": 273210,
                    "rowCount": 1000024,
                    "usageDescription": "",
                    "jobId": 2,
                    "name": "count at NativeMethodAccessorImpl.java:0",
                    "description": "Job group for statement 13:\ncomments_row_count = comments_single_df.count()\ncomment_col_count = len(comments_single_df.columns)\nprint(f\"shape of the comments dataframe is {comments_row_count:,}x{comment_col_count}\")",
                    "submissionTime": "2024-11-11T17:12:10.422GMT",
                    "completionTime": "2024-11-11T17:12:21.108GMT",
                    "stageIds": [
                      2
                    ],
                    "jobGroup": "13",
                    "status": "SUCCEEDED",
                    "numTasks": 24,
                    "numActiveTasks": 0,
                    "numCompletedTasks": 24,
                    "numSkippedTasks": 0,
                    "numFailedTasks": 0,
                    "numKilledTasks": 0,
                    "numCompletedIndices": 24,
                    "numActiveStages": 0,
                    "numCompletedStages": 1,
                    "numSkippedStages": 0,
                    "numFailedStages": 0,
                    "killedTasksSummary": {}
                  }
                ],
                "limit": 20,
                "rule": "ALL_DESC"
              },
              "session_id": "1",
              "normalized_state": "finished",
              "queued_time": "2024-11-11T17:12:08.4033342Z",
              "session_start_time": null,
              "execution_start_time": "2024-11-11T17:12:08.5299651Z",
              "execution_finish_time": "2024-11-11T17:12:23.0459472Z",
              "parent_msg_id": "48bc909b-b7a1-434f-9059-b557a94aba9c"
            },
            "text/plain": "StatementMeta(b1cc13f1-0ee0-4cd0-88e0-b9f032c88fe6, 1, 13, Finished, Available, Finished)"
          },
          "metadata": {}
        },
        {
          "output_type": "stream",
          "name": "stdout",
          "text": "shape of the comments dataframe is 1,000,000x17\n"
        }
      ],
      "execution_count": 8,
      "metadata": {
        "jupyter": {
          "source_hidden": false,
          "outputs_hidden": false
        },
        "nteract": {
          "transient": {
            "deleting": false
          }
        },
        "gather": {
          "logged": 1731345143189
        }
      }
    },
    {
      "cell_type": "code",
      "source": [
        "submissions_single_df.printSchema()\n",
        "\n"
      ],
      "outputs": [
        {
          "output_type": "display_data",
          "data": {
            "application/vnd.livy.statement-meta+json": {
              "spark_pool": "b1cc13f1-0ee0-4cd0-88e0-b9f032c88fe6",
              "statement_id": 14,
              "statement_ids": [
                14
              ],
              "state": "finished",
              "livy_statement_state": "available",
              "spark_jobs": {
                "numbers": {
                  "RUNNING": 0,
                  "SUCCEEDED": 0,
                  "FAILED": 0,
                  "UNKNOWN": 0
                },
                "jobs": [],
                "limit": 20,
                "rule": "ALL_DESC"
              },
              "session_id": "1",
              "normalized_state": "finished",
              "queued_time": "2024-11-11T17:12:29.7699241Z",
              "session_start_time": null,
              "execution_start_time": "2024-11-11T17:12:30.5520828Z",
              "execution_finish_time": "2024-11-11T17:12:30.8610713Z",
              "parent_msg_id": "61650650-6cdc-4e8a-b432-6d277c2ab0dc"
            },
            "text/plain": "StatementMeta(b1cc13f1-0ee0-4cd0-88e0-b9f032c88fe6, 1, 14, Finished, Available, Finished)"
          },
          "metadata": {}
        },
        {
          "output_type": "stream",
          "name": "stdout",
          "text": "root\n |-- author: string (nullable = true)\n |-- author_flair_css_class: string (nullable = true)\n |-- author_flair_text: string (nullable = true)\n |-- created_utc: long (nullable = true)\n |-- distinguished: string (nullable = true)\n |-- domain: string (nullable = true)\n |-- edited: double (nullable = true)\n |-- id: string (nullable = true)\n |-- is_self: boolean (nullable = true)\n |-- locked: boolean (nullable = true)\n |-- num_comments: long (nullable = true)\n |-- over_18: boolean (nullable = true)\n |-- quarantine: boolean (nullable = true)\n |-- retrieved_on: long (nullable = true)\n |-- score: long (nullable = true)\n |-- selftext: string (nullable = true)\n |-- stickied: boolean (nullable = true)\n |-- subreddit: string (nullable = true)\n |-- subreddit_id: string (nullable = true)\n |-- title: string (nullable = true)\n |-- url: string (nullable = true)\n\n"
        }
      ],
      "execution_count": 9,
      "metadata": {
        "jupyter": {
          "source_hidden": false,
          "outputs_hidden": false
        },
        "nteract": {
          "transient": {
            "deleting": false
          }
        },
        "gather": {
          "logged": 1731345151017
        }
      }
    },
    {
      "cell_type": "code",
      "source": [
        "submissions_row_count = submissions_single_df.count()\n",
        "submissions_col_count = len(submissions_single_df.columns)\n",
        "print(f\"shape of the submissions dataframe is {submissions_row_count:,}x{submissions_col_count}\")"
      ],
      "outputs": [
        {
          "output_type": "display_data",
          "data": {
            "application/vnd.livy.statement-meta+json": {
              "spark_pool": "b1cc13f1-0ee0-4cd0-88e0-b9f032c88fe6",
              "statement_id": 15,
              "statement_ids": [
                15
              ],
              "state": "finished",
              "livy_statement_state": "available",
              "spark_jobs": {
                "numbers": {
                  "RUNNING": 0,
                  "SUCCEEDED": 2,
                  "FAILED": 0,
                  "UNKNOWN": 0
                },
                "jobs": [
                  {
                    "displayName": "count at NativeMethodAccessorImpl.java:0",
                    "dataWritten": 0,
                    "dataRead": 1347,
                    "rowCount": 24,
                    "usageDescription": "",
                    "jobId": 5,
                    "name": "count at NativeMethodAccessorImpl.java:0",
                    "description": "Job group for statement 15:\nsubmissions_row_count = submissions_single_df.count()\nsubmissions_col_count = len(submissions_single_df.columns)\nprint(f\"shape of the submissions dataframe is {submissions_row_count:,}x{submissions_col_count}\")",
                    "submissionTime": "2024-11-11T17:12:44.687GMT",
                    "completionTime": "2024-11-11T17:12:45.439GMT",
                    "stageIds": [
                      6,
                      7
                    ],
                    "jobGroup": "15",
                    "status": "SUCCEEDED",
                    "numTasks": 25,
                    "numActiveTasks": 0,
                    "numCompletedTasks": 1,
                    "numSkippedTasks": 24,
                    "numFailedTasks": 0,
                    "numKilledTasks": 0,
                    "numCompletedIndices": 1,
                    "numActiveStages": 0,
                    "numCompletedStages": 1,
                    "numSkippedStages": 1,
                    "numFailedStages": 0,
                    "killedTasksSummary": {}
                  },
                  {
                    "displayName": "count at NativeMethodAccessorImpl.java:0",
                    "dataWritten": 1347,
                    "dataRead": 336750,
                    "rowCount": 1000024,
                    "usageDescription": "",
                    "jobId": 4,
                    "name": "count at NativeMethodAccessorImpl.java:0",
                    "description": "Job group for statement 15:\nsubmissions_row_count = submissions_single_df.count()\nsubmissions_col_count = len(submissions_single_df.columns)\nprint(f\"shape of the submissions dataframe is {submissions_row_count:,}x{submissions_col_count}\")",
                    "submissionTime": "2024-11-11T17:12:44.186GMT",
                    "completionTime": "2024-11-11T17:12:44.643GMT",
                    "stageIds": [
                      5
                    ],
                    "jobGroup": "15",
                    "status": "SUCCEEDED",
                    "numTasks": 24,
                    "numActiveTasks": 0,
                    "numCompletedTasks": 24,
                    "numSkippedTasks": 0,
                    "numFailedTasks": 0,
                    "numKilledTasks": 0,
                    "numCompletedIndices": 24,
                    "numActiveStages": 0,
                    "numCompletedStages": 1,
                    "numSkippedStages": 0,
                    "numFailedStages": 0,
                    "killedTasksSummary": {}
                  }
                ],
                "limit": 20,
                "rule": "ALL_DESC"
              },
              "session_id": "1",
              "normalized_state": "finished",
              "queued_time": "2024-11-11T17:12:43.9701381Z",
              "session_start_time": null,
              "execution_start_time": "2024-11-11T17:12:44.1060123Z",
              "execution_finish_time": "2024-11-11T17:12:46.5924937Z",
              "parent_msg_id": "ab7929f2-c086-492e-92f6-8e67349b7677"
            },
            "text/plain": "StatementMeta(b1cc13f1-0ee0-4cd0-88e0-b9f032c88fe6, 1, 15, Finished, Available, Finished)"
          },
          "metadata": {}
        },
        {
          "output_type": "stream",
          "name": "stdout",
          "text": "shape of the submissions dataframe is 1,000,000x21\n"
        }
      ],
      "execution_count": 10,
      "metadata": {
        "jupyter": {
          "source_hidden": false,
          "outputs_hidden": false
        },
        "nteract": {
          "transient": {
            "deleting": false
          }
        },
        "gather": {
          "logged": 1731345166691
        }
      }
    },
    {
      "cell_type": "markdown",
      "source": [
        "### Reading in an entire month"
      ],
      "metadata": {
        "nteract": {
          "transient": {
            "deleting": false
          }
        }
      }
    },
    {
      "cell_type": "code",
      "source": [
        "# Test on a single month\n",
        "comments_month = \"yyyy=2023/mm=11/\"\n",
        "submissions_month = \"yyyy=2023/mm=11/\""
      ],
      "outputs": [
        {
          "output_type": "display_data",
          "data": {
            "application/vnd.livy.statement-meta+json": {
              "spark_pool": "b1cc13f1-0ee0-4cd0-88e0-b9f032c88fe6",
              "statement_id": 20,
              "statement_ids": [
                20
              ],
              "state": "finished",
              "livy_statement_state": "available",
              "spark_jobs": {
                "numbers": {
                  "RUNNING": 0,
                  "SUCCEEDED": 0,
                  "FAILED": 0,
                  "UNKNOWN": 0
                },
                "jobs": [],
                "limit": 20,
                "rule": "ALL_DESC"
              },
              "session_id": "1",
              "normalized_state": "finished",
              "queued_time": "2024-11-11T17:14:16.7810895Z",
              "session_start_time": null,
              "execution_start_time": "2024-11-11T17:14:16.9183868Z",
              "execution_finish_time": "2024-11-11T17:14:17.2335865Z",
              "parent_msg_id": "f5f69adf-d09e-4327-a22c-865821232999"
            },
            "text/plain": "StatementMeta(b1cc13f1-0ee0-4cd0-88e0-b9f032c88fe6, 1, 20, Finished, Available, Finished)"
          },
          "metadata": {}
        }
      ],
      "execution_count": 15,
      "metadata": {
        "jupyter": {
          "source_hidden": false,
          "outputs_hidden": false
        },
        "nteract": {
          "transient": {
            "deleting": false
          }
        },
        "gather": {
          "logged": 1731345257485
        }
      }
    },
    {
      "cell_type": "code",
      "source": [
        "comments_months_df = spark.read.parquet(f\"{wasbs_base_url}{comments_path}{comments_month}\")\n",
        "submissions_months_df = spark.read.parquet(f\"{wasbs_base_url}{submissions_path}{submissions_month}\")"
      ],
      "outputs": [
        {
          "output_type": "display_data",
          "data": {
            "application/vnd.livy.statement-meta+json": {
              "spark_pool": "b1cc13f1-0ee0-4cd0-88e0-b9f032c88fe6",
              "statement_id": 21,
              "statement_ids": [
                21
              ],
              "state": "finished",
              "livy_statement_state": "available",
              "spark_jobs": {
                "numbers": {
                  "RUNNING": 0,
                  "SUCCEEDED": 2,
                  "FAILED": 0,
                  "UNKNOWN": 0
                },
                "jobs": [
                  {
                    "displayName": "parquet at NativeMethodAccessorImpl.java:0",
                    "dataWritten": 0,
                    "dataRead": 0,
                    "rowCount": 0,
                    "usageDescription": "",
                    "jobId": 9,
                    "name": "parquet at NativeMethodAccessorImpl.java:0",
                    "description": "Job group for statement 21:\ncomments_months_df = spark.read.parquet(f\"{wasbs_base_url}{comments_path}{comments_month}\")\nsubmissions_months_df = spark.read.parquet(f\"{wasbs_base_url}{submissions_path}{submissions_month}\")",
                    "submissionTime": "2024-11-11T17:14:22.532GMT",
                    "completionTime": "2024-11-11T17:14:23.506GMT",
                    "stageIds": [
                      11
                    ],
                    "jobGroup": "21",
                    "status": "SUCCEEDED",
                    "numTasks": 1,
                    "numActiveTasks": 0,
                    "numCompletedTasks": 1,
                    "numSkippedTasks": 0,
                    "numFailedTasks": 0,
                    "numKilledTasks": 0,
                    "numCompletedIndices": 1,
                    "numActiveStages": 0,
                    "numCompletedStages": 1,
                    "numSkippedStages": 0,
                    "numFailedStages": 0,
                    "killedTasksSummary": {}
                  },
                  {
                    "displayName": "parquet at NativeMethodAccessorImpl.java:0",
                    "dataWritten": 0,
                    "dataRead": 0,
                    "rowCount": 0,
                    "usageDescription": "",
                    "jobId": 8,
                    "name": "parquet at NativeMethodAccessorImpl.java:0",
                    "description": "Job group for statement 21:\ncomments_months_df = spark.read.parquet(f\"{wasbs_base_url}{comments_path}{comments_month}\")\nsubmissions_months_df = spark.read.parquet(f\"{wasbs_base_url}{submissions_path}{submissions_month}\")",
                    "submissionTime": "2024-11-11T17:14:22.143GMT",
                    "completionTime": "2024-11-11T17:14:22.248GMT",
                    "stageIds": [
                      10
                    ],
                    "jobGroup": "21",
                    "status": "SUCCEEDED",
                    "numTasks": 1,
                    "numActiveTasks": 0,
                    "numCompletedTasks": 1,
                    "numSkippedTasks": 0,
                    "numFailedTasks": 0,
                    "numKilledTasks": 0,
                    "numCompletedIndices": 1,
                    "numActiveStages": 0,
                    "numCompletedStages": 1,
                    "numSkippedStages": 0,
                    "numFailedStages": 0,
                    "killedTasksSummary": {}
                  }
                ],
                "limit": 20,
                "rule": "ALL_DESC"
              },
              "session_id": "1",
              "normalized_state": "finished",
              "queued_time": "2024-11-11T17:14:21.585484Z",
              "session_start_time": null,
              "execution_start_time": "2024-11-11T17:14:21.7401048Z",
              "execution_finish_time": "2024-11-11T17:14:24.198021Z",
              "parent_msg_id": "c2994097-a242-47af-933e-cce66ae7c587"
            },
            "text/plain": "StatementMeta(b1cc13f1-0ee0-4cd0-88e0-b9f032c88fe6, 1, 21, Finished, Available, Finished)"
          },
          "metadata": {}
        }
      ],
      "execution_count": 16,
      "metadata": {
        "jupyter": {
          "source_hidden": false,
          "outputs_hidden": false
        },
        "nteract": {
          "transient": {
            "deleting": false
          }
        },
        "gather": {
          "logged": 1731345264319
        }
      }
    },
    {
      "cell_type": "markdown",
      "source": [
        "#### Initial exploration"
      ],
      "metadata": {
        "nteract": {
          "transient": {
            "deleting": false
          }
        }
      }
    },
    {
      "cell_type": "code",
      "source": [
        "comments_row_count = comments_months_df.count()\n",
        "comment_col_count = len(comments_months_df.columns)\n",
        "print(f\"shape of the comments dataframe is {comments_row_count:,}x{comment_col_count}\")"
      ],
      "outputs": [
        {
          "output_type": "display_data",
          "data": {
            "application/vnd.livy.statement-meta+json": {
              "spark_pool": "b1cc13f1-0ee0-4cd0-88e0-b9f032c88fe6",
              "statement_id": 22,
              "statement_ids": [
                22
              ],
              "state": "finished",
              "livy_statement_state": "available",
              "spark_jobs": {
                "numbers": {
                  "RUNNING": 0,
                  "SUCCEEDED": 2,
                  "FAILED": 0,
                  "UNKNOWN": 0
                },
                "jobs": [
                  {
                    "displayName": "count at NativeMethodAccessorImpl.java:0",
                    "dataWritten": 0,
                    "dataRead": 14396,
                    "rowCount": 244,
                    "usageDescription": "",
                    "jobId": 11,
                    "name": "count at NativeMethodAccessorImpl.java:0",
                    "description": "Job group for statement 22:\ncomments_row_count = comments_months_df.count()\ncomment_col_count = len(comments_months_df.columns)\nprint(f\"shape of the comments dataframe is {comments_row_count:,}x{comment_col_count}\")",
                    "submissionTime": "2024-11-11T17:14:39.720GMT",
                    "completionTime": "2024-11-11T17:14:39.862GMT",
                    "stageIds": [
                      13,
                      14
                    ],
                    "jobGroup": "22",
                    "status": "SUCCEEDED",
                    "numTasks": 245,
                    "numActiveTasks": 0,
                    "numCompletedTasks": 1,
                    "numSkippedTasks": 244,
                    "numFailedTasks": 0,
                    "numKilledTasks": 0,
                    "numCompletedIndices": 1,
                    "numActiveStages": 0,
                    "numCompletedStages": 1,
                    "numSkippedStages": 1,
                    "numFailedStages": 0,
                    "killedTasksSummary": {}
                  },
                  {
                    "displayName": "count at NativeMethodAccessorImpl.java:0",
                    "dataWritten": 14396,
                    "dataRead": 4479843,
                    "rowCount": 243870598,
                    "usageDescription": "",
                    "jobId": 10,
                    "name": "count at NativeMethodAccessorImpl.java:0",
                    "description": "Job group for statement 22:\ncomments_row_count = comments_months_df.count()\ncomment_col_count = len(comments_months_df.columns)\nprint(f\"shape of the comments dataframe is {comments_row_count:,}x{comment_col_count}\")",
                    "submissionTime": "2024-11-11T17:14:36.947GMT",
                    "completionTime": "2024-11-11T17:14:39.688GMT",
                    "stageIds": [
                      12
                    ],
                    "jobGroup": "22",
                    "status": "SUCCEEDED",
                    "numTasks": 244,
                    "numActiveTasks": 0,
                    "numCompletedTasks": 244,
                    "numSkippedTasks": 0,
                    "numFailedTasks": 0,
                    "numKilledTasks": 0,
                    "numCompletedIndices": 244,
                    "numActiveStages": 0,
                    "numCompletedStages": 1,
                    "numSkippedStages": 0,
                    "numFailedStages": 0,
                    "killedTasksSummary": {}
                  }
                ],
                "limit": 20,
                "rule": "ALL_DESC"
              },
              "session_id": "1",
              "normalized_state": "finished",
              "queued_time": "2024-11-11T17:14:36.6854897Z",
              "session_start_time": null,
              "execution_start_time": "2024-11-11T17:14:36.8273737Z",
              "execution_finish_time": "2024-11-11T17:14:40.4424026Z",
              "parent_msg_id": "615a2d34-fa36-4a45-8404-7f68ca39b3c4"
            },
            "text/plain": "StatementMeta(b1cc13f1-0ee0-4cd0-88e0-b9f032c88fe6, 1, 22, Finished, Available, Finished)"
          },
          "metadata": {}
        },
        {
          "output_type": "stream",
          "name": "stdout",
          "text": "shape of the comments dataframe is 243,870,354x17\n"
        }
      ],
      "execution_count": 17,
      "metadata": {
        "jupyter": {
          "source_hidden": false,
          "outputs_hidden": false
        },
        "nteract": {
          "transient": {
            "deleting": false
          }
        },
        "gather": {
          "logged": 1731345280570
        }
      }
    },
    {
      "cell_type": "code",
      "source": [
        "submissions_row_count = submissions_months_df.count()\n",
        "submissions_col_count = len(submissions_months_df.columns)\n",
        "print(f\"shape of the submissions dataframe is {submissions_row_count:,}x{submissions_col_count}\")"
      ],
      "outputs": [
        {
          "output_type": "display_data",
          "data": {
            "application/vnd.livy.statement-meta+json": {
              "spark_pool": "b1cc13f1-0ee0-4cd0-88e0-b9f032c88fe6",
              "statement_id": 23,
              "statement_ids": [
                23
              ],
              "state": "finished",
              "livy_statement_state": "available",
              "spark_jobs": {
                "numbers": {
                  "RUNNING": 0,
                  "SUCCEEDED": 2,
                  "FAILED": 0,
                  "UNKNOWN": 0
                },
                "jobs": [
                  {
                    "displayName": "count at NativeMethodAccessorImpl.java:0",
                    "dataWritten": 0,
                    "dataRead": 2525,
                    "rowCount": 43,
                    "usageDescription": "",
                    "jobId": 13,
                    "name": "count at NativeMethodAccessorImpl.java:0",
                    "description": "Job group for statement 23:\nsubmissions_row_count = submissions_months_df.count()\nsubmissions_col_count = len(submissions_months_df.columns)\nprint(f\"shape of the submissions dataframe is {submissions_row_count:,}x{submissions_col_count}\")",
                    "submissionTime": "2024-11-11T17:15:01.532GMT",
                    "completionTime": "2024-11-11T17:15:02.324GMT",
                    "stageIds": [
                      16,
                      17
                    ],
                    "jobGroup": "23",
                    "status": "SUCCEEDED",
                    "numTasks": 44,
                    "numActiveTasks": 0,
                    "numCompletedTasks": 1,
                    "numSkippedTasks": 43,
                    "numFailedTasks": 0,
                    "numKilledTasks": 0,
                    "numCompletedIndices": 1,
                    "numActiveStages": 0,
                    "numCompletedStages": 1,
                    "numSkippedStages": 1,
                    "numFailedStages": 0,
                    "killedTasksSummary": {}
                  },
                  {
                    "displayName": "count at NativeMethodAccessorImpl.java:0",
                    "dataWritten": 2525,
                    "dataRead": 1562637,
                    "rowCount": 38107510,
                    "usageDescription": "",
                    "jobId": 12,
                    "name": "count at NativeMethodAccessorImpl.java:0",
                    "description": "Job group for statement 23:\nsubmissions_row_count = submissions_months_df.count()\nsubmissions_col_count = len(submissions_months_df.columns)\nprint(f\"shape of the submissions dataframe is {submissions_row_count:,}x{submissions_col_count}\")",
                    "submissionTime": "2024-11-11T17:15:00.356GMT",
                    "completionTime": "2024-11-11T17:15:01.497GMT",
                    "stageIds": [
                      15
                    ],
                    "jobGroup": "23",
                    "status": "SUCCEEDED",
                    "numTasks": 43,
                    "numActiveTasks": 0,
                    "numCompletedTasks": 43,
                    "numSkippedTasks": 0,
                    "numFailedTasks": 0,
                    "numKilledTasks": 0,
                    "numCompletedIndices": 43,
                    "numActiveStages": 0,
                    "numCompletedStages": 1,
                    "numSkippedStages": 0,
                    "numFailedStages": 0,
                    "killedTasksSummary": {}
                  }
                ],
                "limit": 20,
                "rule": "ALL_DESC"
              },
              "session_id": "1",
              "normalized_state": "finished",
              "queued_time": "2024-11-11T17:15:00.0547038Z",
              "session_start_time": null,
              "execution_start_time": "2024-11-11T17:15:00.2189832Z",
              "execution_finish_time": "2024-11-11T17:15:02.7023383Z",
              "parent_msg_id": "de66d9bc-41eb-48fd-8c16-6bd54c332f10"
            },
            "text/plain": "StatementMeta(b1cc13f1-0ee0-4cd0-88e0-b9f032c88fe6, 1, 23, Finished, Available, Finished)"
          },
          "metadata": {}
        },
        {
          "output_type": "stream",
          "name": "stdout",
          "text": "shape of the submissions dataframe is 38,107,467x21\n"
        }
      ],
      "execution_count": 18,
      "metadata": {
        "jupyter": {
          "source_hidden": false,
          "outputs_hidden": false
        },
        "nteract": {
          "transient": {
            "deleting": false
          }
        },
        "gather": {
          "logged": 1731345302813
        }
      }
    },
    {
      "cell_type": "markdown",
      "source": [
        "### Reeading in all of the Reddit data"
      ],
      "metadata": {
        "nteract": {
          "transient": {
            "deleting": false
          }
        }
      }
    },
    {
      "cell_type": "code",
      "source": [
        "comments_df = spark.read.parquet(f\"{wasbs_base_url}{comments_path}\")\n",
        "submissions_df = spark.read.parquet(f\"{wasbs_base_url}{submissions_path}\")"
      ],
      "outputs": [
        {
          "output_type": "display_data",
          "data": {
            "application/vnd.livy.statement-meta+json": {
              "spark_pool": "b1cc13f1-0ee0-4cd0-88e0-b9f032c88fe6",
              "statement_id": 24,
              "statement_ids": [
                24
              ],
              "state": "finished",
              "livy_statement_state": "available",
              "spark_jobs": {
                "numbers": {
                  "RUNNING": 0,
                  "SUCCEEDED": 2,
                  "FAILED": 0,
                  "UNKNOWN": 0
                },
                "jobs": [
                  {
                    "displayName": "parquet at NativeMethodAccessorImpl.java:0",
                    "dataWritten": 0,
                    "dataRead": 0,
                    "rowCount": 0,
                    "usageDescription": "",
                    "jobId": 15,
                    "name": "parquet at NativeMethodAccessorImpl.java:0",
                    "description": "Job group for statement 24:\ncomments_df = spark.read.parquet(f\"{wasbs_base_url}{comments_path}\")\nsubmissions_df = spark.read.parquet(f\"{wasbs_base_url}{submissions_path}\")",
                    "submissionTime": "2024-11-11T17:15:22.500GMT",
                    "completionTime": "2024-11-11T17:15:22.697GMT",
                    "stageIds": [
                      19
                    ],
                    "jobGroup": "24",
                    "status": "SUCCEEDED",
                    "numTasks": 1,
                    "numActiveTasks": 0,
                    "numCompletedTasks": 1,
                    "numSkippedTasks": 0,
                    "numFailedTasks": 0,
                    "numKilledTasks": 0,
                    "numCompletedIndices": 1,
                    "numActiveStages": 0,
                    "numCompletedStages": 1,
                    "numSkippedStages": 0,
                    "numFailedStages": 0,
                    "killedTasksSummary": {}
                  },
                  {
                    "displayName": "parquet at NativeMethodAccessorImpl.java:0",
                    "dataWritten": 0,
                    "dataRead": 0,
                    "rowCount": 0,
                    "usageDescription": "",
                    "jobId": 14,
                    "name": "parquet at NativeMethodAccessorImpl.java:0",
                    "description": "Job group for statement 24:\ncomments_df = spark.read.parquet(f\"{wasbs_base_url}{comments_path}\")\nsubmissions_df = spark.read.parquet(f\"{wasbs_base_url}{submissions_path}\")",
                    "submissionTime": "2024-11-11T17:15:21.590GMT",
                    "completionTime": "2024-11-11T17:15:21.799GMT",
                    "stageIds": [
                      18
                    ],
                    "jobGroup": "24",
                    "status": "SUCCEEDED",
                    "numTasks": 1,
                    "numActiveTasks": 0,
                    "numCompletedTasks": 1,
                    "numSkippedTasks": 0,
                    "numFailedTasks": 0,
                    "numKilledTasks": 0,
                    "numCompletedIndices": 1,
                    "numActiveStages": 0,
                    "numCompletedStages": 1,
                    "numSkippedStages": 0,
                    "numFailedStages": 0,
                    "killedTasksSummary": {}
                  }
                ],
                "limit": 20,
                "rule": "ALL_DESC"
              },
              "session_id": "1",
              "normalized_state": "finished",
              "queued_time": "2024-11-11T17:15:18.5537249Z",
              "session_start_time": null,
              "execution_start_time": "2024-11-11T17:15:18.7176908Z",
              "execution_finish_time": "2024-11-11T17:15:24.994703Z",
              "parent_msg_id": "6be3342f-b9f8-4942-a175-0583f4f1164c"
            },
            "text/plain": "StatementMeta(b1cc13f1-0ee0-4cd0-88e0-b9f032c88fe6, 1, 24, Finished, Available, Finished)"
          },
          "metadata": {}
        }
      ],
      "execution_count": 19,
      "metadata": {
        "jupyter": {
          "source_hidden": false,
          "outputs_hidden": false
        },
        "nteract": {
          "transient": {
            "deleting": false
          }
        },
        "gather": {
          "logged": 1731345325087
        }
      }
    },
    {
      "cell_type": "code",
      "source": [
        "submissions_df.count()"
      ],
      "outputs": [
        {
          "output_type": "display_data",
          "data": {
            "application/vnd.livy.statement-meta+json": {
              "spark_pool": "b1cc13f1-0ee0-4cd0-88e0-b9f032c88fe6",
              "statement_id": 25,
              "statement_ids": [
                25
              ],
              "state": "finished",
              "livy_statement_state": "available",
              "spark_jobs": {
                "numbers": {
                  "RUNNING": 0,
                  "SUCCEEDED": 2,
                  "FAILED": 0,
                  "UNKNOWN": 0
                },
                "jobs": [
                  {
                    "displayName": "count at NativeMethodAccessorImpl.java:0",
                    "dataWritten": 0,
                    "dataRead": 37447,
                    "rowCount": 638,
                    "usageDescription": "",
                    "jobId": 17,
                    "name": "count at NativeMethodAccessorImpl.java:0",
                    "description": "Job group for statement 25:\nsubmissions_df.count()",
                    "submissionTime": "2024-11-11T17:15:40.324GMT",
                    "completionTime": "2024-11-11T17:15:41.006GMT",
                    "stageIds": [
                      21,
                      22
                    ],
                    "jobGroup": "25",
                    "status": "SUCCEEDED",
                    "numTasks": 639,
                    "numActiveTasks": 0,
                    "numCompletedTasks": 1,
                    "numSkippedTasks": 638,
                    "numFailedTasks": 0,
                    "numKilledTasks": 0,
                    "numCompletedIndices": 1,
                    "numActiveStages": 0,
                    "numCompletedStages": 1,
                    "numSkippedStages": 1,
                    "numFailedStages": 0,
                    "killedTasksSummary": {}
                  },
                  {
                    "displayName": "count at NativeMethodAccessorImpl.java:0",
                    "dataWritten": 37447,
                    "dataRead": 21360513,
                    "rowCount": 567891507,
                    "usageDescription": "",
                    "jobId": 16,
                    "name": "count at NativeMethodAccessorImpl.java:0",
                    "description": "Job group for statement 25:\nsubmissions_df.count()",
                    "submissionTime": "2024-11-11T17:15:34.514GMT",
                    "completionTime": "2024-11-11T17:15:40.300GMT",
                    "stageIds": [
                      20
                    ],
                    "jobGroup": "25",
                    "status": "SUCCEEDED",
                    "numTasks": 638,
                    "numActiveTasks": 0,
                    "numCompletedTasks": 638,
                    "numSkippedTasks": 0,
                    "numFailedTasks": 0,
                    "numKilledTasks": 0,
                    "numCompletedIndices": 638,
                    "numActiveStages": 0,
                    "numCompletedStages": 1,
                    "numSkippedStages": 0,
                    "numFailedStages": 0,
                    "killedTasksSummary": {}
                  }
                ],
                "limit": 20,
                "rule": "ALL_DESC"
              },
              "session_id": "1",
              "normalized_state": "finished",
              "queued_time": "2024-11-11T17:15:34.172432Z",
              "session_start_time": null,
              "execution_start_time": "2024-11-11T17:15:34.3213053Z",
              "execution_finish_time": "2024-11-11T17:15:42.4995673Z",
              "parent_msg_id": "8ce25010-b04c-45b2-af96-468281a7d180"
            },
            "text/plain": "StatementMeta(b1cc13f1-0ee0-4cd0-88e0-b9f032c88fe6, 1, 25, Finished, Available, Finished)"
          },
          "metadata": {}
        },
        {
          "output_type": "execute_result",
          "execution_count": 49,
          "data": {
            "text/plain": "567890869"
          },
          "metadata": {}
        }
      ],
      "execution_count": 20,
      "metadata": {
        "jupyter": {
          "source_hidden": false,
          "outputs_hidden": false
        },
        "nteract": {
          "transient": {
            "deleting": false
          }
        },
        "gather": {
          "logged": 1731345342630
        }
      }
    },
    {
      "cell_type": "code",
      "source": [
        "submissions_df.rdd.getNumPartitions()"
      ],
      "outputs": [
        {
          "output_type": "display_data",
          "data": {
            "application/vnd.livy.statement-meta+json": {
              "spark_pool": "b1cc13f1-0ee0-4cd0-88e0-b9f032c88fe6",
              "statement_id": 26,
              "statement_ids": [
                26
              ],
              "state": "finished",
              "livy_statement_state": "available",
              "spark_jobs": {
                "numbers": {
                  "RUNNING": 0,
                  "SUCCEEDED": 0,
                  "FAILED": 0,
                  "UNKNOWN": 0
                },
                "jobs": [],
                "limit": 20,
                "rule": "ALL_DESC"
              },
              "session_id": "1",
              "normalized_state": "finished",
              "queued_time": "2024-11-11T17:15:58.0205389Z",
              "session_start_time": null,
              "execution_start_time": "2024-11-11T17:15:59.1420278Z",
              "execution_finish_time": "2024-11-11T17:15:59.4486178Z",
              "parent_msg_id": "3dc1dd82-4382-42d2-a352-b04fc6d4477f"
            },
            "text/plain": "StatementMeta(b1cc13f1-0ee0-4cd0-88e0-b9f032c88fe6, 1, 26, Finished, Available, Finished)"
          },
          "metadata": {}
        },
        {
          "output_type": "execute_result",
          "execution_count": 51,
          "data": {
            "text/plain": "638"
          },
          "metadata": {}
        }
      ],
      "execution_count": 21,
      "metadata": {
        "jupyter": {
          "source_hidden": false,
          "outputs_hidden": false
        },
        "nteract": {
          "transient": {
            "deleting": false
          }
        },
        "gather": {
          "logged": 1731345359584
        }
      }
    },
    {
      "cell_type": "code",
      "source": [
        "comments_df.count()"
      ],
      "outputs": [
        {
          "output_type": "display_data",
          "data": {
            "application/vnd.livy.statement-meta+json": {
              "spark_pool": "b1cc13f1-0ee0-4cd0-88e0-b9f032c88fe6",
              "statement_id": 27,
              "statement_ids": [
                27
              ],
              "state": "finished",
              "livy_statement_state": "available",
              "spark_jobs": {
                "numbers": {
                  "RUNNING": 0,
                  "SUCCEEDED": 2,
                  "FAILED": 0,
                  "UNKNOWN": 0
                },
                "jobs": [
                  {
                    "displayName": "count at NativeMethodAccessorImpl.java:0",
                    "dataWritten": 0,
                    "dataRead": 216943,
                    "rowCount": 3677,
                    "usageDescription": "",
                    "jobId": 19,
                    "name": "count at NativeMethodAccessorImpl.java:0",
                    "description": "Job group for statement 27:\ncomments_df.count()",
                    "submissionTime": "2024-11-11T17:16:21.367GMT",
                    "completionTime": "2024-11-11T17:16:22.174GMT",
                    "stageIds": [
                      24,
                      25
                    ],
                    "jobGroup": "27",
                    "status": "SUCCEEDED",
                    "numTasks": 3678,
                    "numActiveTasks": 0,
                    "numCompletedTasks": 1,
                    "numSkippedTasks": 3677,
                    "numFailedTasks": 0,
                    "numKilledTasks": 0,
                    "numCompletedIndices": 1,
                    "numActiveStages": 0,
                    "numCompletedStages": 1,
                    "numSkippedStages": 1,
                    "numFailedStages": 0,
                    "killedTasksSummary": {}
                  },
                  {
                    "displayName": "count at NativeMethodAccessorImpl.java:0",
                    "dataWritten": 216943,
                    "dataRead": 66934449,
                    "rowCount": 3675772635,
                    "usageDescription": "",
                    "jobId": 18,
                    "name": "count at NativeMethodAccessorImpl.java:0",
                    "description": "Job group for statement 27:\ncomments_df.count()",
                    "submissionTime": "2024-11-11T17:16:02.531GMT",
                    "completionTime": "2024-11-11T17:16:21.339GMT",
                    "stageIds": [
                      23
                    ],
                    "jobGroup": "27",
                    "status": "SUCCEEDED",
                    "numTasks": 3677,
                    "numActiveTasks": 0,
                    "numCompletedTasks": 3677,
                    "numSkippedTasks": 0,
                    "numFailedTasks": 0,
                    "numKilledTasks": 0,
                    "numCompletedIndices": 3677,
                    "numActiveStages": 0,
                    "numCompletedStages": 1,
                    "numSkippedStages": 0,
                    "numFailedStages": 0,
                    "killedTasksSummary": {}
                  }
                ],
                "limit": 20,
                "rule": "ALL_DESC"
              },
              "session_id": "1",
              "normalized_state": "finished",
              "queued_time": "2024-11-11T17:16:02.2799025Z",
              "session_start_time": null,
              "execution_start_time": "2024-11-11T17:16:02.4021007Z",
              "execution_finish_time": "2024-11-11T17:16:22.455794Z",
              "parent_msg_id": "46610ab3-1b64-4b1d-816c-61c92b5f86a8"
            },
            "text/plain": "StatementMeta(b1cc13f1-0ee0-4cd0-88e0-b9f032c88fe6, 1, 27, Finished, Available, Finished)"
          },
          "metadata": {}
        },
        {
          "output_type": "execute_result",
          "execution_count": 53,
          "data": {
            "text/plain": "3675768958"
          },
          "metadata": {}
        }
      ],
      "execution_count": 22,
      "metadata": {
        "jupyter": {
          "source_hidden": false,
          "outputs_hidden": false
        },
        "nteract": {
          "transient": {
            "deleting": false
          }
        },
        "gather": {
          "logged": 1731345382591
        }
      }
    },
    {
      "cell_type": "code",
      "source": [
        "comments_df.rdd.getNumPartitions()"
      ],
      "outputs": [
        {
          "output_type": "display_data",
          "data": {
            "application/vnd.livy.statement-meta+json": {
              "spark_pool": "b1cc13f1-0ee0-4cd0-88e0-b9f032c88fe6",
              "statement_id": 28,
              "statement_ids": [
                28
              ],
              "state": "finished",
              "livy_statement_state": "available",
              "spark_jobs": {
                "numbers": {
                  "RUNNING": 0,
                  "SUCCEEDED": 0,
                  "FAILED": 0,
                  "UNKNOWN": 0
                },
                "jobs": [],
                "limit": 20,
                "rule": "ALL_DESC"
              },
              "session_id": "1",
              "normalized_state": "finished",
              "queued_time": "2024-11-11T17:16:24.7118061Z",
              "session_start_time": null,
              "execution_start_time": "2024-11-11T17:16:24.8804039Z",
              "execution_finish_time": "2024-11-11T17:16:25.1936703Z",
              "parent_msg_id": "d0b3f06d-ce1b-49d8-b251-dd5a0153b828"
            },
            "text/plain": "StatementMeta(b1cc13f1-0ee0-4cd0-88e0-b9f032c88fe6, 1, 28, Finished, Available, Finished)"
          },
          "metadata": {}
        },
        {
          "output_type": "execute_result",
          "execution_count": 55,
          "data": {
            "text/plain": "3677"
          },
          "metadata": {}
        }
      ],
      "execution_count": 23,
      "metadata": {
        "jupyter": {
          "source_hidden": false,
          "outputs_hidden": false
        },
        "nteract": {
          "transient": {
            "deleting": false
          }
        },
        "gather": {
          "logged": 1731345385307
        }
      }
    },
    {
      "cell_type": "code",
      "source": [
        "comments_df.printSchema()"
      ],
      "outputs": [
        {
          "output_type": "display_data",
          "data": {
            "application/vnd.livy.statement-meta+json": {
              "spark_pool": "b1cc13f1-0ee0-4cd0-88e0-b9f032c88fe6",
              "statement_id": 29,
              "statement_ids": [
                29
              ],
              "state": "finished",
              "livy_statement_state": "available",
              "spark_jobs": {
                "numbers": {
                  "RUNNING": 0,
                  "SUCCEEDED": 0,
                  "FAILED": 0,
                  "UNKNOWN": 0
                },
                "jobs": [],
                "limit": 20,
                "rule": "ALL_DESC"
              },
              "session_id": "1",
              "normalized_state": "finished",
              "queued_time": "2024-11-11T17:16:27.9321149Z",
              "session_start_time": null,
              "execution_start_time": "2024-11-11T17:16:28.671066Z",
              "execution_finish_time": "2024-11-11T17:16:28.968549Z",
              "parent_msg_id": "6217a574-147e-44db-83d9-04b5e70cb360"
            },
            "text/plain": "StatementMeta(b1cc13f1-0ee0-4cd0-88e0-b9f032c88fe6, 1, 29, Finished, Available, Finished)"
          },
          "metadata": {}
        },
        {
          "output_type": "stream",
          "name": "stdout",
          "text": "root\n |-- author: string (nullable = true)\n |-- author_flair_css_class: string (nullable = true)\n |-- author_flair_text: string (nullable = true)\n |-- body: string (nullable = true)\n |-- controversiality: long (nullable = true)\n |-- created_utc: long (nullable = true)\n |-- distinguished: string (nullable = true)\n |-- edited: double (nullable = true)\n |-- gilded: long (nullable = true)\n |-- id: string (nullable = true)\n |-- link_id: string (nullable = true)\n |-- parent_id: string (nullable = true)\n |-- retrieved_on: long (nullable = true)\n |-- score: long (nullable = true)\n |-- stickied: boolean (nullable = true)\n |-- subreddit: string (nullable = true)\n |-- subreddit_id: string (nullable = true)\n |-- yyyy: integer (nullable = true)\n |-- mm: integer (nullable = true)\n\n"
        }
      ],
      "execution_count": 24,
      "metadata": {
        "jupyter": {
          "source_hidden": false,
          "outputs_hidden": false
        },
        "nteract": {
          "transient": {
            "deleting": false
          }
        },
        "gather": {
          "logged": 1731345389073
        }
      }
    },
    {
      "cell_type": "markdown",
      "source": [
        "## Exploratory Data Analysis\n",
        "\n",
        "Here is an example of some EDA. But, before we do that let us setup some local directory structure so that that the results can be checked in into the repo."
      ],
      "metadata": {
        "nteract": {
          "transient": {
            "deleting": false
          }
        }
      }
    },
    {
      "cell_type": "code",
      "source": [
        "## create a directory called data/plots and data/csv to save generated data\n",
        "import os\n",
        "PLOT_DIR = os.path.join(\"Users/aem303/data\", \"plots\")\n",
        "CSV_DIR = os.path.join(\"Users/aem303/data\", \"csv\")\n",
        "os.makedirs(PLOT_DIR, exist_ok=True)\n",
        "os.makedirs(CSV_DIR, exist_ok=True)"
      ],
      "outputs": [
        {
          "output_type": "display_data",
          "data": {
            "application/vnd.livy.statement-meta+json": {
              "spark_pool": "cf47b043-0c98-4514-b15a-1e3237e3aed3",
              "session_id": "23",
              "statement_id": 8,
              "state": "finished",
              "livy_statement_state": "available",
              "queued_time": "2023-10-17T22:00:03.9433325Z",
              "session_start_time": null,
              "execution_start_time": "2023-10-17T22:00:04.0232527Z",
              "execution_finish_time": "2023-10-17T22:00:06.6846616Z",
              "spark_jobs": {
                "numbers": {
                  "RUNNING": 0,
                  "UNKNOWN": 0,
                  "SUCCEEDED": 0,
                  "FAILED": 0
                },
                "jobs": [],
                "limit": 20,
                "rule": "ALL_DESC"
              },
              "parent_msg_id": "fab29b9b-16d3-4818-8662-01e2aaf7fbaa"
            },
            "text/plain": "StatementMeta(cf47b043-0c98-4514-b15a-1e3237e3aed3, 23, 8, Finished, Available)"
          },
          "metadata": {}
        }
      ],
      "execution_count": 3,
      "metadata": {
        "jupyter": {
          "source_hidden": false,
          "outputs_hidden": false
        },
        "nteract": {
          "transient": {
            "deleting": false
          }
        },
        "gather": {
          "logged": 1697580006297
        }
      }
    },
    {
      "cell_type": "markdown",
      "source": [
        "### How many subreddits are there and which are the more popular ones\n",
        "\n",
        "One of the first questions we can ask is how many subreddits are there and which ones are the top 10 based on the number of submissions."
      ],
      "metadata": {
        "nteract": {
          "transient": {
            "deleting": false
          }
        }
      }
    },
    {
      "cell_type": "code",
      "source": [
        "from pyspark.sql.functions import col, asc,desc\n",
        "submissions_by_subreddit = submissions_df.groupBy(\"subreddit\").count().orderBy(col(\"count\"), ascending=False).collect()"
      ],
      "outputs": [
        {
          "output_type": "display_data",
          "data": {
            "application/vnd.livy.statement-meta+json": {
              "spark_pool": "b1cc13f1-0ee0-4cd0-88e0-b9f032c88fe6",
              "statement_id": 30,
              "statement_ids": [
                30
              ],
              "state": "finished",
              "livy_statement_state": "available",
              "spark_jobs": {
                "numbers": {
                  "RUNNING": 0,
                  "SUCCEEDED": 4,
                  "FAILED": 0,
                  "UNKNOWN": 0
                },
                "jobs": [
                  {
                    "displayName": "collect at /tmp/ipykernel_8282/2599807449.py:2",
                    "dataWritten": 0,
                    "dataRead": 138926299,
                    "rowCount": 6708176,
                    "usageDescription": "",
                    "jobId": 23,
                    "name": "collect at /tmp/ipykernel_8282/2599807449.py:2",
                    "description": "Job group for statement 30:\nfrom pyspark.sql.functions import col, asc,desc\nsubmissions_by_subreddit = submissions_df.groupBy(\"subreddit\").count().orderBy(col(\"count\"), ascending=False).collect()",
                    "submissionTime": "2024-11-11T17:20:06.961GMT",
                    "completionTime": "2024-11-11T17:20:10.262GMT",
                    "stageIds": [
                      33,
                      31,
                      32
                    ],
                    "jobGroup": "30",
                    "status": "SUCCEEDED",
                    "numTasks": 673,
                    "numActiveTasks": 0,
                    "numCompletedTasks": 10,
                    "numSkippedTasks": 663,
                    "numFailedTasks": 0,
                    "numKilledTasks": 0,
                    "numCompletedIndices": 10,
                    "numActiveStages": 0,
                    "numCompletedStages": 1,
                    "numSkippedStages": 2,
                    "numFailedStages": 0,
                    "killedTasksSummary": {}
                  },
                  {
                    "displayName": "collect at /tmp/ipykernel_8282/2599807449.py:2",
                    "dataWritten": 138926299,
                    "dataRead": 1292264868,
                    "rowCount": 62953862,
                    "usageDescription": "",
                    "jobId": 22,
                    "name": "collect at /tmp/ipykernel_8282/2599807449.py:2",
                    "description": "Job group for statement 30:\nfrom pyspark.sql.functions import col, asc,desc\nsubmissions_by_subreddit = submissions_df.groupBy(\"subreddit\").count().orderBy(col(\"count\"), ascending=False).collect()",
                    "submissionTime": "2024-11-11T17:20:03.220GMT",
                    "completionTime": "2024-11-11T17:20:06.888GMT",
                    "stageIds": [
                      30,
                      29
                    ],
                    "jobGroup": "30",
                    "status": "SUCCEEDED",
                    "numTasks": 663,
                    "numActiveTasks": 0,
                    "numCompletedTasks": 25,
                    "numSkippedTasks": 638,
                    "numFailedTasks": 0,
                    "numKilledTasks": 0,
                    "numCompletedIndices": 25,
                    "numActiveStages": 0,
                    "numCompletedStages": 1,
                    "numSkippedStages": 1,
                    "numFailedStages": 0,
                    "killedTasksSummary": {}
                  },
                  {
                    "displayName": "collect at /tmp/ipykernel_8282/2599807449.py:2",
                    "dataWritten": 0,
                    "dataRead": 1292264868,
                    "rowCount": 56245686,
                    "usageDescription": "",
                    "jobId": 21,
                    "name": "collect at /tmp/ipykernel_8282/2599807449.py:2",
                    "description": "Job group for statement 30:\nfrom pyspark.sql.functions import col, asc,desc\nsubmissions_by_subreddit = submissions_df.groupBy(\"subreddit\").count().orderBy(col(\"count\"), ascending=False).collect()",
                    "submissionTime": "2024-11-11T17:19:59.008GMT",
                    "completionTime": "2024-11-11T17:20:03.111GMT",
                    "stageIds": [
                      27,
                      28
                    ],
                    "jobGroup": "30",
                    "status": "SUCCEEDED",
                    "numTasks": 663,
                    "numActiveTasks": 0,
                    "numCompletedTasks": 25,
                    "numSkippedTasks": 638,
                    "numFailedTasks": 0,
                    "numKilledTasks": 0,
                    "numCompletedIndices": 25,
                    "numActiveStages": 0,
                    "numCompletedStages": 1,
                    "numSkippedStages": 1,
                    "numFailedStages": 0,
                    "killedTasksSummary": {}
                  },
                  {
                    "displayName": "collect at /tmp/ipykernel_8282/2599807449.py:2",
                    "dataWritten": 1292264868,
                    "dataRead": 2920253419,
                    "rowCount": 624136555,
                    "usageDescription": "",
                    "jobId": 20,
                    "name": "collect at /tmp/ipykernel_8282/2599807449.py:2",
                    "description": "Job group for statement 30:\nfrom pyspark.sql.functions import col, asc,desc\nsubmissions_by_subreddit = submissions_df.groupBy(\"subreddit\").count().orderBy(col(\"count\"), ascending=False).collect()",
                    "submissionTime": "2024-11-11T17:19:26.811GMT",
                    "completionTime": "2024-11-11T17:19:58.746GMT",
                    "stageIds": [
                      26
                    ],
                    "jobGroup": "30",
                    "status": "SUCCEEDED",
                    "numTasks": 638,
                    "numActiveTasks": 0,
                    "numCompletedTasks": 638,
                    "numSkippedTasks": 0,
                    "numFailedTasks": 0,
                    "numKilledTasks": 0,
                    "numCompletedIndices": 638,
                    "numActiveStages": 0,
                    "numCompletedStages": 1,
                    "numSkippedStages": 0,
                    "numFailedStages": 0,
                    "killedTasksSummary": {}
                  }
                ],
                "limit": 20,
                "rule": "ALL_DESC"
              },
              "session_id": "1",
              "normalized_state": "finished",
              "queued_time": "2024-11-11T17:19:26.1859259Z",
              "session_start_time": null,
              "execution_start_time": "2024-11-11T17:19:26.4258297Z",
              "execution_finish_time": "2024-11-11T17:20:39.0287483Z",
              "parent_msg_id": "711643b9-9c5a-4232-9331-3443b9c87651"
            },
            "text/plain": "StatementMeta(b1cc13f1-0ee0-4cd0-88e0-b9f032c88fe6, 1, 30, Finished, Available, Finished)"
          },
          "metadata": {}
        }
      ],
      "execution_count": 25,
      "metadata": {
        "jupyter": {
          "source_hidden": false,
          "outputs_hidden": false
        },
        "nteract": {
          "transient": {
            "deleting": false
          }
        },
        "gather": {
          "logged": 1731345639141
        }
      }
    },
    {
      "cell_type": "code",
      "source": [
        "submissions_by_subreddit"
      ],
      "outputs": [
        {
          "output_type": "display_data",
          "data": {
            "application/vnd.livy.statement-meta+json": {
              "spark_pool": "b1cc13f1-0ee0-4cd0-88e0-b9f032c88fe6",
              "statement_id": 31,
              "statement_ids": [
                31
              ],
              "state": "finished",
              "livy_statement_state": "available",
              "spark_jobs": {
                "numbers": {
                  "RUNNING": 0,
                  "SUCCEEDED": 0,
                  "FAILED": 0,
                  "UNKNOWN": 0
                },
                "jobs": [],
                "limit": 20,
                "rule": "ALL_DESC"
              },
              "session_id": "1",
              "normalized_state": "finished",
              "queued_time": "2024-11-11T17:21:03.9646933Z",
              "session_start_time": null,
              "execution_start_time": "2024-11-11T17:21:04.1137425Z",
              "execution_finish_time": "2024-11-11T17:21:04.4187304Z",
              "parent_msg_id": "1d0c55e6-68c5-42f6-a5a6-591633ad90fa"
            },
            "text/plain": "StatementMeta(b1cc13f1-0ee0-4cd0-88e0-b9f032c88fe6, 1, 31, Finished, Available, Finished)"
          },
          "metadata": {}
        },
        {
          "output_type": "execute_result",
          "execution_count": 61,
          "data": {
            "text/plain": "[Row(subreddit='dirtyr4r', count=3633005),\n Row(subreddit='JerkOffChat', count=3616759),\n Row(subreddit='AskReddit', count=2686082),\n Row(subreddit='GaySnapchatImages', count=2655639),\n Row(subreddit='GaySnapchatShare', count=2641484),\n Row(subreddit='DirtySnapchat', count=1986200),\n Row(subreddit='PokemonGoRaids', count=1341799),\n Row(subreddit='slutsofsnapchat', count=1334782),\n Row(subreddit='PersonalizedGameRecs', count=1325223),\n Row(subreddit='HentaiAndRoleplayy', count=1315212),\n Row(subreddit='u_GrownBrilliance', count=1310625),\n Row(subreddit='MonopolyGoTrading', count=1234245),\n Row(subreddit='relationship_advice', count=1149649),\n Row(subreddit='MassiveCock', count=1096306),\n Row(subreddit='DirtyChatPals', count=1024807),\n Row(subreddit='Monopoly_GO', count=970421),\n Row(subreddit='AutoNewspaper', count=946314),\n Row(subreddit='GOONED', count=917121),\n Row(subreddit='ratemycock', count=898375),\n Row(subreddit='DickPicRequestv2', count=863552),\n Row(subreddit='teenagers', count=862443),\n Row(subreddit='gonewild', count=850536),\n Row(subreddit='Market76', count=817392),\n Row(subreddit='DisneyNewsfeed', count=786909),\n Row(subreddit='SluttyConfessions', count=732571),\n Row(subreddit='Limitlessrp', count=731483),\n Row(subreddit='jerkbudsHentai', count=730365),\n Row(subreddit='NoStupidQuestions', count=699872),\n Row(subreddit='chubby', count=693488),\n Row(subreddit='dirtypenpals', count=683040),\n Row(subreddit='PokemonGoFriends', count=679855),\n Row(subreddit='jerkofftoceleb', count=610068),\n Row(subreddit='GaybrosGoneWild', count=600487),\n Row(subreddit='nsfw_roleplay', count=596576),\n Row(subreddit='Slut', count=589726),\n Row(subreddit='IRLgirls', count=585219),\n Row(subreddit='TheOnesYouLustOver', count=582107),\n Row(subreddit='dalewilson', count=563895),\n Row(subreddit='KinkTown', count=556574),\n Row(subreddit='naturaltitties', count=523390),\n Row(subreddit='phr4r', count=512754),\n Row(subreddit='FapDeciders', count=507012),\n Row(subreddit='BornToBeFucked', count=495683),\n Row(subreddit='AmItheAsshole', count=487706),\n Row(subreddit='boobs', count=487533),\n Row(subreddit='Teencocks', count=486626),\n Row(subreddit='MakeNewFriendsHere', count=480609),\n Row(subreddit='memes', count=479218),\n Row(subreddit='FemBoys', count=474805),\n Row(subreddit='Nude_Selfie', count=471072),\n Row(subreddit='slutgirldream', count=463689),\n Row(subreddit='penis', count=463070),\n Row(subreddit='RoleplayHentai', count=457450),\n Row(subreddit='cats', count=454363),\n Row(subreddit='Sissykik2', count=449278),\n Row(subreddit='Sexsells', count=445601),\n Row(subreddit='OnlyFans101', count=439217),\n Row(subreddit='FantasticBreasts', count=436541),\n Row(subreddit='fnafpornrp', count=431547),\n Row(subreddit='booty', count=431474),\n Row(subreddit='ThickThighs', count=423916),\n Row(subreddit='Advice', count=423272),\n Row(subreddit='SnapchatSexting4you', count=412827),\n Row(subreddit='Karma4Free', count=409567),\n Row(subreddit='redditenfrancais', count=408172),\n Row(subreddit='EdgeTogether', count=407555),\n Row(subreddit='GayGermany', count=407515),\n Row(subreddit='BabesNSFW', count=396566),\n Row(subreddit='raceplay', count=390579),\n Row(subreddit='NSFWGirl', count=385979),\n Row(subreddit='pornID', count=385265),\n Row(subreddit='NaturalCurves', count=383131),\n Row(subreddit='AskDocs', count=382645),\n Row(subreddit='BaldursGate3', count=376618),\n Row(subreddit='FreeKarma4You', count=375756),\n Row(subreddit='MommyMaterial', count=374387),\n Row(subreddit='girlsthatlovesex', count=365607),\n Row(subreddit='CatfishMePlease2', count=364794),\n Row(subreddit='WifeWantstoPlay', count=362172),\n Row(subreddit='UniversityGirls', count=361866),\n Row(subreddit='Sissies', count=358142),\n Row(subreddit='Sissy_humiliation', count=357319),\n Row(subreddit='Brawlstars', count=352398),\n Row(subreddit='collegesluts', count=352328),\n Row(subreddit='hotclub', count=351064),\n Row(subreddit='DirtyRedditChat', count=341528),\n Row(subreddit='SmallCutie', count=339003),\n Row(subreddit='ladybonersgw', count=338498),\n Row(subreddit='webcamgirlsnsfw', count=335755),\n Row(subreddit='barelylegalteens', count=335286),\n Row(subreddit='pcmasterrace', count=334685),\n Row(subreddit='Helldivers', count=328574),\n Row(subreddit='amihot', count=327861),\n Row(subreddit='Eldenring', count=326156),\n Row(subreddit='AdorableNudes', count=324082),\n Row(subreddit='GirlsGW', count=323174),\n Row(subreddit='Wifebutt', count=321351),\n Row(subreddit='jobboardsearch', count=320554),\n Row(subreddit='news', count=317734),\n Row(subreddit='LegalCollegeGirls', count=317713),\n Row(subreddit='r4r', count=316823),\n Row(subreddit='AskRedditAfterDark', count=315031),\n Row(subreddit='DadsAndBoys', count=306597),\n Row(subreddit='relationships', count=305167),\n Row(subreddit='ThickDick', count=304950),\n Row(subreddit='bongbeauty', count=302038),\n Row(subreddit='RealCute', count=298133),\n Row(subreddit='smallboobs', count=297443),\n Row(subreddit='xsmallgirls', count=293463),\n Row(subreddit='FreeKarma4U', count=293430),\n Row(subreddit='GunAccessoriesForSale', count=292202),\n Row(subreddit='Backview', count=289944),\n Row(subreddit='boypussy', count=288692),\n Row(subreddit='buildapc', count=286641),\n Row(subreddit='bwc', count=286349),\n Row(subreddit='BDSMpersonals', count=285325),\n Row(subreddit='CamGirls_all', count=285227),\n Row(subreddit='18y', count=285187),\n Row(subreddit='gaming', count=284288),\n Row(subreddit='CharacterAI', count=283996),\n Row(subreddit='tipofmytongue', count=282010),\n Row(subreddit='NudeNonNude', count=281615),\n Row(subreddit='CamSluts', count=281194),\n Row(subreddit='offmychest', count=278028),\n Row(subreddit='BreedMeDaddy', count=275459),\n Row(subreddit='BiCuriousGuysChat', count=273823),\n Row(subreddit='legaladvice', count=273770),\n Row(subreddit='pokemongo', count=272171),\n Row(subreddit='AlldayfuckNSFW', count=272161),\n Row(subreddit='NSFWNextDoorGirls', count=271041),\n Row(subreddit='PerfectBody', count=269654),\n Row(subreddit='PawgLove', count=269031),\n Row(subreddit='DegradeThisCunt', count=269023),\n Row(subreddit='onlyfans_wild', count=268543),\n Row(subreddit='Starfield', count=264857),\n Row(subreddit='BBW', count=263704),\n Row(subreddit='funny', count=262601),\n Row(subreddit='CamGirls', count=262514),\n Row(subreddit='DadsGoneWild', count=260282),\n Row(subreddit='BareBody', count=260281),\n Row(subreddit='clips', count=258889),\n Row(subreddit='needysluts', count=257403),\n Row(subreddit='Selfie_Heaven', count=256990),\n Row(subreddit='SnapchatSextXXX', count=256734),\n Row(subreddit='SlightYdd', count=251869),\n Row(subreddit='Pussy_Perfection', count=250934),\n Row(subreddit='Minecraft', count=250589),\n Row(subreddit='AskMen', count=249489),\n Row(subreddit='FortNiteBR', count=249368),\n Row(subreddit='NSFWGenunieBeauties', count=249180),\n Row(subreddit='DadWouldBeProud', count=248060),\n Row(subreddit='cutegirlsgw', count=247652),\n Row(subreddit='latinas', count=245267),\n Row(subreddit='jerkbudsssssss', count=241261),\n Row(subreddit='BicuriousGuysChatNew', count=240534),\n Row(subreddit='LegalTeens', count=240528),\n Row(subreddit='cock', count=239628),\n Row(subreddit='diablo4', count=238446),\n Row(subreddit='Slutzys', count=234028),\n Row(subreddit='RateMyAss_', count=233448),\n Row(subreddit='RandomActsOfBlowJob', count=232403),\n Row(subreddit='FashionReps', count=230638),\n Row(subreddit='SchoolgirlsXXX', count=230489),\n Row(subreddit='sissypersonals', count=229276),\n Row(subreddit='onlyfansgirls101', count=229166),\n Row(subreddit='adorableporntoo', count=228898),\n Row(subreddit='techsupport', count=226077),\n Row(subreddit='selfie', count=224706),\n Row(subreddit='SextingSC_', count=223392),\n Row(subreddit='twinks', count=222887),\n Row(subreddit='dating_advice', count=222222),\n Row(subreddit='Sexting_Adults', count=222161),\n Row(subreddit='GayKik', count=221632),\n Row(subreddit='largemilkers', count=220296),\n Row(subreddit='TwentyPlus', count=219998),\n Row(subreddit='DFWcasualencounters', count=217689),\n Row(subreddit='unpopularopinion', count=216878),\n Row(subreddit='straightturnedgay', count=216042),\n Row(subreddit='AITAH', count=214122),\n Row(subreddit='SkincareAddiction', count=213758),\n Row(subreddit='rapefantasies', count=213388),\n Row(subreddit='ask', count=212868),\n Row(subreddit='Babygirl', count=212294),\n Row(subreddit='cocaine', count=211390),\n Row(subreddit='normalnudes', count=211301),\n Row(subreddit='FertileGirls', count=210702),\n Row(subreddit='promoteonlyfans', count=210249),\n Row(subreddit='shitposting', count=209336),\n Row(subreddit='18_22', count=209325),\n Row(subreddit='Gonewild18', count=209117),\n Row(subreddit='MONSTERCOCKS', count=208845),\n Row(subreddit='CodingJobs', count=206302),\n Row(subreddit='SuicideWatch', count=203961),\n Row(subreddit='traps', count=202320),\n Row(subreddit='sex', count=200075),\n Row(subreddit='onlyfans_blessed', count=199700),\n Row(subreddit='fut', count=199508),\n Row(subreddit='cockheadlovers', count=199042),\n Row(subreddit='remoteworks', count=198444),\n Row(subreddit='StraightToSissy', count=196569),\n Row(subreddit='Showerthoughts', count=196333),\n Row(subreddit='HotInfluPL', count=195187),\n Row(subreddit='NoFap', count=194420),\n Row(subreddit='ButtsAndBareFeet', count=194251),\n Row(subreddit='dating', count=194098),\n Row(subreddit='business', count=193802),\n Row(subreddit='Yesstylepromos', count=193321),\n Row(subreddit='joblead', count=193251),\n Row(subreddit='echojobs', count=193211),\n Row(subreddit='WankbattleArea', count=193164),\n Row(subreddit='BiMarriedMen', count=191512),\n Row(subreddit='brasilnoticias', count=190419),\n Row(subreddit='golangjob', count=190266),\n Row(subreddit='PcBuild', count=190122),\n Row(subreddit='JavaScriptJob', count=189021),\n Row(subreddit='Classy_asses', count=188001),\n Row(subreddit='ReactJSJobs', count=187728),\n Row(subreddit='pythonjob', count=187342),\n Row(subreddit='Music', count=185051),\n Row(subreddit='bloxfruits', count=183636),\n Row(subreddit='TrueOffMyChest', count=182647),\n Row(subreddit='Feelingsexy', count=182539),\n Row(subreddit='OnlyFans101BrandNew', count=181691),\n Row(subreddit='onlineSugar', count=181631),\n Row(subreddit='196', count=181036),\n Row(subreddit='DaughterTraining', count=179697),\n Row(subreddit='MechanicAdvice', count=179572),\n Row(subreddit='ChurchWife', count=179086),\n Row(subreddit='HungryButts', count=178892),\n Row(subreddit='india', count=178825),\n Row(subreddit='LoveBBWs', count=178311),\n Row(subreddit='youtube', count=175121),\n Row(subreddit='titposting', count=174910),\n Row(subreddit='BustyNaturals', count=174718),\n Row(subreddit='pics', count=173769),\n Row(subreddit='Mexico_Videos', count=173375),\n Row(subreddit='BoobsQueens', count=172873),\n Row(subreddit='Gayarabwild', count=172491),\n Row(subreddit='DirtyKIKRoleplay', count=172355),\n Row(subreddit='OriginalCharacter', count=171278),\n Row(subreddit='OnlyNaturalBoobs', count=171251),\n Row(subreddit='SluttyMaterial', count=171119),\n Row(subreddit='ADHD', count=170799),\n Row(subreddit='FantasticTits', count=170737),\n Row(subreddit='pets_and_ownwers', count=170157),\n Row(subreddit='ArgNSFW', count=170016),\n Row(subreddit='travel', count=169797),\n Row(subreddit='wallstreetbets', count=169275),\n Row(subreddit='tipofmypenis', count=169175),\n Row(subreddit='DeathBattleMatchups', count=169067),\n Row(subreddit='mildlyinfuriating', count=168730),\n Row(subreddit='referralcodes', count=168361),\n Row(subreddit='movies', count=168031),\n Row(subreddit='gardening', count=167821),\n Row(subreddit='BatmanArkham', count=167764),\n Row(subreddit='SextingAdult', count=167699),\n Row(subreddit='MilfBody', count=167413),\n Row(subreddit='leagueoflegends', count=166786),\n Row(subreddit='SexyButClothed', count=166758),\n Row(subreddit='IWantToBeHerHentai2', count=166554),\n Row(subreddit='GaySkype', count=166026),\n Row(subreddit='PatchesEmporium', count=165918),\n Row(subreddit='realHomemade', count=165633),\n Row(subreddit='OnlyFansAsstastic', count=165246),\n Row(subreddit='Nudes', count=164769),\n Row(subreddit='WetPussys', count=164652),\n Row(subreddit='YesStyleRewardsCode', count=164488),\n Row(subreddit='HomemadeNsfw', count=164242),\n Row(subreddit='deadbydaylight', count=163882),\n Row(subreddit='Roleplaybuddy3', count=163661),\n Row(subreddit='Rate_my_feet', count=163657),\n Row(subreddit='CryptoCurrency', count=162679),\n Row(subreddit='TemuCodesUSA', count=162617),\n Row(subreddit='CreampieMaterial', count=162309),\n Row(subreddit='indianroleplay', count=162286),\n Row(subreddit='Watches', count=162182),\n Row(subreddit='Pandabuy', count=162165),\n Row(subreddit='anime', count=162060),\n Row(subreddit='careerguidance', count=161687),\n Row(subreddit='OnlineAffairs', count=161604),\n Row(subreddit='worldnews', count=161603),\n Row(subreddit='Incestconfessions', count=161422),\n Row(subreddit='depression', count=160888),\n Row(subreddit='personalfinance', count=160884),\n Row(subreddit='BreedingMaterial', count=160385),\n Row(subreddit='SexyButNotPorn', count=159873),\n Row(subreddit='CutCocks', count=159130),\n Row(subreddit='wife_gone_wild', count=158502),\n Row(subreddit='Genshin_Impact', count=158441),\n Row(subreddit='BigTitsHeaven', count=158238),\n Row(subreddit='averagepenis', count=158144),\n Row(subreddit='aww', count=158046),\n Row(subreddit='place', count=157227),\n Row(subreddit='Vent', count=156946),\n Row(subreddit='trans', count=156344),\n Row(subreddit='KinkTown2', count=155900),\n Row(subreddit='HelpMeFind', count=155858),\n Row(subreddit='BigDickWhiteDudes', count=155706),\n Row(subreddit='whatsthisbug', count=155537),\n Row(subreddit='YoungGuysGoneWild', count=155466),\n Row(subreddit='PetiteTits', count=155214),\n Row(subreddit='HonkaiStarRail', count=155111),\n Row(subreddit='AllGirls_NSFW', count=154196),\n Row(subreddit='GoneWildCD', count=153538),\n Row(subreddit='swingersr4r', count=153535),\n Row(subreddit='wankbattleslegit', count=153478),\n Row(subreddit='PhotoshopRequest', count=153436),\n Row(subreddit='JEENEETards', count=153303),\n Row(subreddit='Fat_Fetish', count=153101),\n Row(subreddit='HornyWivesNextDoor', count=152907),\n Row(subreddit='Christianity', count=152706),\n Row(subreddit='Philippines', count=151845),\n Row(subreddit='Warthunder', count=151479),\n Row(subreddit='Watchexchange', count=151362),\n Row(subreddit='geometrydash', count=150616),\n Row(subreddit='whatisthisthing', count=150477),\n Row(subreddit='bigbubblebutt', count=150241),\n Row(subreddit='roleplaybuddy_11', count=149850),\n Row(subreddit='Overwatch', count=149522),\n Row(subreddit='OnePiece', count=149490),\n Row(subreddit='B_Cups', count=149098),\n Row(subreddit='BUSTYQUEENS', count=149090),\n Row(subreddit='18F', count=148554),\n Row(subreddit='baberotica', count=148121),\n Row(subreddit='Amateursgirlsx', count=148056),\n Row(subreddit='FeetInYourFace', count=148049),\n Row(subreddit='sensualcurves', count=147504),\n Row(subreddit='TopMindsOfReddit', count=147315),\n Row(subreddit='DDlg18Plus', count=146993),\n Row(subreddit='u_Appzxt', count=146965),\n Row(subreddit='MarvelSnap', count=146441),\n Row(subreddit='beautifulbutt', count=146092),\n Row(subreddit='ChatGPT', count=145862),\n Row(subreddit='soccer', count=145370),\n Row(subreddit='gayporn', count=144757),\n Row(subreddit='LssAutomation', count=144508),\n Row(subreddit='rapeandsexfantasies', count=143955),\n Row(subreddit='1819gw', count=143687),\n Row(subreddit='dommes', count=143602),\n Row(subreddit='OnlyFansPromotions', count=142752),\n Row(subreddit='hentai', count=141988),\n Row(subreddit='SluttyConfessionsDesi', count=141681),\n Row(subreddit='BreakUps', count=141496),\n Row(subreddit='rustjob', count=140812),\n Row(subreddit='politics', count=140670),\n Row(subreddit='teenagersbuthot', count=140637),\n Row(subreddit='meme', count=139851),\n Row(subreddit='NaughtyRealGirls', count=138377),\n Row(subreddit='obsf', count=138204),\n Row(subreddit='baseballcards', count=138127),\n Row(subreddit='asiangirlsforwhitemen', count=137954),\n Row(subreddit='KGBTR', count=137838),\n Row(subreddit='MeetNewPeopleHere', count=137283),\n Row(subreddit='Aquariums', count=136940),\n Row(subreddit='femboy', count=136858),\n Row(subreddit='asstastic', count=136606),\n Row(subreddit='3Dprinting', count=136566),\n Row(subreddit='cyberpunkgame', count=136334),\n Row(subreddit='u_Back_Market', count=136325),\n Row(subreddit='sluts', count=136196),\n Row(subreddit='BreakingNews24hr', count=136185),\n Row(subreddit='phonesex', count=135397),\n Row(subreddit='Feet_Queens', count=134944),\n Row(subreddit='KikSextingXXX', count=134781),\n Row(subreddit='WBA_knaw_battle', count=134637),\n Row(subreddit='OffMyChestPH', count=134511),\n Row(subreddit='h3h3productions', count=134458),\n Row(subreddit='DnD', count=134457),\n Row(subreddit='GayZoom', count=134371),\n Row(subreddit='nba', count=134335),\n Row(subreddit='mentalhealth', count=133573),\n Row(subreddit='2007scape', count=132194),\n Row(subreddit='SnapchatDirtySext', count=131103),\n Row(subreddit='tipofmyjoystick', count=131091),\n Row(subreddit='EGirls', count=130557),\n Row(subreddit='nj4nj', count=130423),\n Row(subreddit='redscarepod', count=130208),\n Row(subreddit='sportsbetting', count=129807),\n Row(subreddit='HIGHANDHORNY', count=129751),\n Row(subreddit='SteamDeck', count=129505),\n Row(subreddit='ForeverAloneDating', count=129276),\n Row(subreddit='SextingFA', count=128946),\n Row(subreddit='AgeGapPersonals', count=128174),\n Row(subreddit='HugeBoobsandTits', count=127976),\n Row(subreddit='YoungBabes', count=127284),\n Row(subreddit='EdgingTalk', count=127054),\n Row(subreddit='GirlsJustWantToBeFuck', count=126656),\n Row(subreddit='ClashOfClans', count=126292),\n Row(subreddit='Snapchat_sexting2024', count=126133),\n Row(subreddit='ratemyboobs', count=125920),\n Row(subreddit='gtaonline', count=125761),\n Row(subreddit='batonrougeletsplaypnp', count=125630),\n Row(subreddit='feetpicsbuyerandsell', count=125502),\n Row(subreddit='Jujutsufolk', count=125462),\n Row(subreddit='piercing', count=124648),\n Row(subreddit='lovense', count=124625),\n Row(subreddit='SextingSnapchat_', count=124586),\n Row(subreddit='getagraph', count=124492),\n Row(subreddit='nudecutegirls', count=124460),\n Row(subreddit='videos', count=124319),\n Row(subreddit='fuckdoll', count=124317),\n Row(subreddit='RateMyNudeBody', count=124248),\n Row(subreddit='PhR4Friends', count=124008),\n Row(subreddit='ClashRoyale', count=123627),\n Row(subreddit='Affairs', count=123417),\n Row(subreddit='AustinTXBadBoy', count=123123),\n Row(subreddit='roblox', count=123116),\n Row(subreddit='PokemonTCG', count=123019),\n Row(subreddit='Latina_Porn', count=122698),\n Row(subreddit='houseplants', count=122696),\n Row(subreddit='FemboyHookup', count=121907),\n Row(subreddit='Nipples', count=121816),\n Row(subreddit='weed', count=121789),\n Row(subreddit='polls', count=121289),\n Row(subreddit='bostonr4r', count=121066),\n Row(subreddit='AssBootyButt', count=120786),\n Row(subreddit='udemyfreebies', count=120703),\n Row(subreddit='FreeKarma4All', count=120019),\n Row(subreddit='drawing', count=119296),\n Row(subreddit='ThickchicksGW', count=119158),\n Row(subreddit='wonderful_women', count=119030),\n Row(subreddit='softies', count=118677),\n Row(subreddit='GayChubs', count=118619),\n Row(subreddit='TittytuesdayGW', count=118137),\n Row(subreddit='MortalKombat', count=118070),\n Row(subreddit='playstation', count=117979),\n Row(subreddit='StockTradingIdeas', count=117703),\n Row(subreddit='desabafos', count=117693),\n Row(subreddit='GachaClub', count=117454),\n Row(subreddit='jobs', count=117365),\n Row(subreddit='oklahomAfuntimes', count=117200),\n Row(subreddit='rape_hentai', count=116929),\n Row(subreddit='only_of', count=116775),\n Row(subreddit='chat', count=116614),\n Row(subreddit='rule34', count=116095),\n Row(subreddit='FRCELEB', count=116059),\n Row(subreddit='whatisthisbug', count=115913),\n Row(subreddit='FUTMobile', count=115743),\n Row(subreddit='AskPH', count=115300),\n Row(subreddit='notinteresting', count=115217),\n Row(subreddit='lonely', count=115130),\n Row(subreddit='Fansly_Girls', count=114934),\n Row(subreddit='BigBoobsClub', count=114456),\n Row(subreddit='sexynormalgirl', count=114380),\n Row(subreddit='OnlyFansBusty', count=113891),\n Row(subreddit='askgaybros', count=113673),\n Row(subreddit='help', count=113645),\n Row(subreddit='Letsseethemboobs', count=113532),\n Row(subreddit='SeductiveMomBod', count=113306),\n Row(subreddit='RandomActsOfMuffDive', count=113216),\n Row(subreddit='Conservative', count=113148),\n Row(subreddit='amiugly', count=112685),\n Row(subreddit='CuteLittleTits', count=112602),\n Row(subreddit='foreskin', count=112599),\n Row(subreddit='PraiseToddHoward', count=112294),\n Row(subreddit='shrooms', count=112227),\n Row(subreddit='golf', count=112027),\n Row(subreddit='Gayuklads', count=111880),\n Row(subreddit='AskWomen', count=111785),\n Row(subreddit='Sims4', count=111734),\n Row(subreddit='EscapefromTarkov', count=111507),\n Row(subreddit='IdahoAffairs', count=111362),\n Row(subreddit='armpitfetish', count=111195),\n Row(subreddit='Warhammer40k', count=110971),\n Row(subreddit='LegalTeens_', count=110787),\n Row(subreddit='Guitar', count=110189),\n Row(subreddit='hookups_PortlandOR', count=109728),\n Row(subreddit='manga', count=109648),\n Row(subreddit='PunkGirls', count=109426),\n Row(subreddit='VeteransBenefits', count=109024),\n Row(subreddit='furry', count=108757),\n Row(subreddit='dirtyphr4r_', count=108753),\n Row(subreddit='atlantar4r', count=108695),\n Row(subreddit='full_nsfw', count=108347),\n Row(subreddit='longtail', count=107937),\n Row(subreddit='TaylorSwift', count=107767),\n Row(subreddit='BWCbigwhitecocks', count=107724),\n Row(subreddit='BuiltForBBC', count=107545),\n Row(subreddit='autism', count=107347),\n Row(subreddit='crossdressing', count=107327),\n Row(subreddit='SlutProblems', count=107124),\n Row(subreddit='lgbt', count=106867),\n Row(subreddit='snapchatsextx', count=106542),\n Row(subreddit='GuysFromBehind', count=106496),\n Row(subreddit='femme_bandante', count=106476),\n Row(subreddit='EASportsFC', count=106473),\n Row(subreddit='fivenightsatfreddys', count=106411),\n Row(subreddit='OnlyfansAddict', count=106372),\n Row(subreddit='WeBeSluts', count=106319),\n Row(subreddit='conspiracy', count=106300),\n Row(subreddit='ass', count=106150),\n Row(subreddit='YesStyle', count=105940),\n Row(subreddit='ShadowBan', count=105645),\n Row(subreddit='Feminization', count=105384),\n Row(subreddit='TransGoneWild', count=105340),\n Row(subreddit='Rainbow6', count=105318),\n Row(subreddit='Destiny', count=104968),\n Row(subreddit='Plumbing', count=104861),\n Row(subreddit='furryrp', count=104816),\n Row(subreddit='Superstonk', count=104780),\n Row(subreddit='chicagor4r', count=104777),\n Row(subreddit='TrendingQuickTVnews', count=104733),\n Row(subreddit='skinnytail', count=104677),\n Row(subreddit='AssHoleGW', count=104540),\n Row(subreddit='medical_advice', count=104281),\n Row(subreddit='Anxiety', count=104230),\n Row(subreddit='Scams', count=104013),\n Row(subreddit='BoobsAndTities', count=103801),\n Row(subreddit='Needafriend', count=103778),\n Row(subreddit='OnlyfansModelsTeasers', count=103508),\n Row(subreddit='Warframe', count=103475),\n Row(subreddit='VALORANT', count=103432),\n Row(subreddit='Drugs', count=103297),\n Row(subreddit='islam', count=103235),\n Row(subreddit='FtMPorn', count=103087),\n Row(subreddit='FurryKikPals', count=103030),\n Row(subreddit='Booty_Lovers', count=102766),\n Row(subreddit='DestinyTheGame', count=102698),\n Row(subreddit='AsianHotties', count=102424),\n Row(subreddit='pregnant', count=102285),\n Row(subreddit='DIY', count=102054),\n Row(subreddit='RandomThoughts', count=101916),\n Row(subreddit='transporn', count=101863),\n Row(subreddit='BreedingBBW', count=101555),\n Row(subreddit='apexlegends', count=101126),\n Row(subreddit='OnlyPornNSFW', count=100956),\n Row(subreddit='Bulges', count=100929),\n Row(subreddit='MeetPeople', count=100868),\n Row(subreddit='ocollysports', count=100790),\n Row(subreddit='uncut_cock', count=100725),\n Row(subreddit='NameThatSong', count=100683),\n Row(subreddit='Ass_Queens', count=100568),\n Row(subreddit='sportsnewstoday', count=100439),\n Row(subreddit='BBCauto', count=100419),\n Row(subreddit='ForcedFeminization', count=100333),\n Row(subreddit='SquaredCircle', count=100277),\n Row(subreddit='AlabamaTittyReview', count=100050),\n Row(subreddit='ModernWarfareIII', count=99729),\n Row(subreddit='discordapp', count=99699),\n Row(subreddit='ApplyingToCollege', count=99425),\n Row(subreddit='pokemon', count=99249),\n Row(subreddit='FanslyAssQueens', count=99204),\n Row(subreddit='TShirt', count=99199),\n Row(subreddit='girlsmasturbating', count=99190),\n Row(subreddit='HaavyInfiniteGang', count=99138),\n Row(subreddit='Femboys4real', count=98851),\n Row(subreddit='BeyondTheFog', count=98721),\n Row(subreddit='iphone', count=98489),\n Row(subreddit='cockcompare', count=98247),\n Row(subreddit='AskUK', count=98212),\n Row(subreddit='clubmilfs', count=98083),\n Row(subreddit='u_playwright_non_admin', count=97930),\n Row(subreddit='TotalBabes', count=97900),\n Row(subreddit='TittyDrop', count=97827),\n Row(subreddit='CatAdvice', count=97775),\n Row(subreddit='BigSizeBoobs', count=97682),\n Row(subreddit='mildlyinteresting', count=97566),\n Row(subreddit='DotA2', count=97462),\n Row(subreddit='BPD', count=97347),\n Row(subreddit='KikSnapchat', count=97329),\n Row(subreddit='nutbank', count=97298),\n Row(subreddit='FFIE', count=97297),\n Row(subreddit='sypherpk', count=97273),\n Row(subreddit='GoonetteHub', count=96933),\n Row(subreddit='StardewValley', count=96830),\n Row(subreddit='friendship', count=96573),\n Row(subreddit='tiktoknsfw', count=96560),\n Row(subreddit='UnsentLetters', count=96555),\n Row(subreddit='airsoft', count=96443),\n Row(subreddit='AlbanianNews', count=96401),\n Row(subreddit='womenarethings', count=96363),\n Row(subreddit='Lovelyasses', count=96266),\n Row(subreddit='bigareolas', count=96252),\n Row(subreddit='trees', count=96119),\n Row(subreddit='bigblackcocks', count=96063),\n Row(subreddit='HomeImprovement', count=96060),\n Row(subreddit='ufc', count=96040),\n Row(subreddit='MetalsOnReddit', count=96004),\n Row(subreddit='RoleplayDiscord', count=95988),\n Row(subreddit='OnlyFansPetite', count=95655),\n Row(subreddit='facepalm', count=95295),\n Row(subreddit='chimeboost', count=95276),\n Row(subreddit='GayRP', count=95258),\n Row(subreddit='NBCauto', count=95243),\n Row(subreddit='Sneakers', count=95080),\n Row(subreddit='adorableporn', count=94730),\n Row(subreddit='RateMyRack', count=94723),\n Row(subreddit='of_wild', count=94634),\n Row(subreddit='STAWG', count=94619),\n Row(subreddit='thickwhitegirls', count=94534),\n Row(subreddit='CelebDPP', count=94528),\n Row(subreddit='VerifiedFeet', count=94463),\n Row(subreddit='Daddy', count=94459),\n Row(subreddit='Seneweb', count=94439),\n Row(subreddit='Parenting', count=94374),\n Row(subreddit='NewsOfTheStupid', count=94349),\n Row(subreddit='GoneWildTrans', count=94305),\n Row(subreddit='nfl', count=93998),\n Row(subreddit='houstonr4r', count=93863),\n Row(subreddit='fo76', count=93483),\n Row(subreddit='motorcycles', count=93379),\n Row(subreddit='hentai_and_roleplay', count=93297),\n Row(subreddit='Normalnudesgonewild', count=93139),\n Row(subreddit='CryptoCurrencyClassic', count=93100),\n Row(subreddit='FreeOnlyFansPromotion', count=92832),\n Row(subreddit='mengonewild', count=92811),\n Row(subreddit='gaymersgonewild', count=92640),\n Row(subreddit='lego', count=92508),\n Row(subreddit='porn', count=92335),\n Row(subreddit='bigtiddygothgf', count=92329),\n Row(subreddit='gifsgonewild', count=92223),\n Row(subreddit='stopdrinking', count=92175),\n Row(subreddit='Repsneakers', count=91894),\n Row(subreddit='blender', count=91810),\n Row(subreddit='Fallout76Marketplace', count=91504),\n Row(subreddit='Faces', count=91133),\n Row(subreddit='Lighting', count=90801),\n Row(subreddit='JerkOffOnVips', count=90754),\n Row(subreddit='Fallout', count=90618),\n Row(subreddit='PetiteGoneWild', count=90549),\n Row(subreddit='JAXHookUps', count=90387),\n Row(subreddit='GermanGays', count=90308),\n Row(subreddit='gilf_milfs', count=90007),\n Row(subreddit='SanFranciscoTechJobs', count=89873),\n Row(subreddit='fresh_teendick', count=89869),\n Row(subreddit='SFtechJobs', count=89775),\n Row(subreddit='FanslyPetiteGirls', count=89761),\n Row(subreddit='FemboySissyParadise', count=89675),\n Row(subreddit='transformers', count=89672),\n Row(subreddit='Asmongold', count=89219),\n Row(subreddit='Snapchat_promotions', count=89218),\n Row(subreddit='SnapchatSextFriends', count=89196),\n Row(subreddit='MirrorSelfie', count=89147),\n Row(subreddit='IndianHotwife', count=88763),\n Row(subreddit='RolePlayWithoutLimits', count=88757),\n Row(subreddit='chastity', count=88648),\n Row(subreddit='1819gonewild', count=88642),\n Row(subreddit='Hair', count=88557),\n Row(subreddit='Kanye', count=88533),\n Row(subreddit='tomorrowsworld', count=88421),\n Row(subreddit='pornrelapsed', count=88387),\n Row(subreddit='Slutsofonlyfans', count=88359),\n Row(subreddit='18_19', count=88306),\n Row(subreddit='Pussy_Selfies', count=88111),\n Row(subreddit='GoodAssSub', count=87895),\n Row(subreddit='cuteonlyfans', count=87840),\n Row(subreddit='GirlsNude', count=87825),\n Row(subreddit='antiwork', count=87761),\n Row(subreddit='TwoSentenceHorror', count=87741),\n Row(subreddit='GUARDIANauto', count=87610),\n Row(subreddit='DevOpsJob', count=87605),\n Row(subreddit='SluttyAF', count=87528),\n Row(subreddit='GayKink', count=87502),\n Row(subreddit='InRealLifeGirls', count=87480),\n Row(subreddit='needypussy', count=87381),\n Row(subreddit='bodyperfection', count=87287),\n Row(subreddit='WickrFinder', count=87179),\n Row(subreddit='ftmspunished', count=86748),\n Row(subreddit='r4rSydneyXXX', count=86695),\n Row(subreddit='Entrepreneur', count=86534),\n Row(subreddit='nsfw', count=86479),\n Row(subreddit='delhi', count=86448),\n Row(subreddit='alasjuicy', count=86437),\n Row(subreddit='Tekken', count=86266),\n Row(subreddit='Roleplay__Hentai', count=86251),\n Row(subreddit='OnlyFans101Asstastic', count=85955),\n Row(subreddit='Tinder', count=85927),\n Row(subreddit='GBr4r', count=85851),\n Row(subreddit='IRLblondes', count=85786),\n Row(subreddit='cum_to_anything', count=85647),\n Row(subreddit='OnlyfansgirlS', count=85643),\n Row(subreddit='nbacirclejerk', count=85637),\n Row(subreddit='KikRoleplay', count=85588),\n Row(subreddit='raisedbynarcissists', count=85491),\n Row(subreddit='Bitcoin', count=85389),\n Row(subreddit='books', count=85356),\n Row(subreddit='tf2', count=85348),\n Row(subreddit='lovemanga', count=85310),\n Row(subreddit='MadeMeSmile', count=85162),\n Row(subreddit='findom', count=84820),\n Row(subreddit='AussieGF_OC', count=84768),\n Row(subreddit='Instagram', count=84590),\n Row(subreddit='Maskoff_tittiesout', count=84568),\n Row(subreddit='GirlsWhoLoveDicks', count=84477),\n Row(subreddit='milfhunter69', count=84466),\n Row(subreddit='plantclinic', count=84418),\n Row(subreddit='TooAfraidToAsk', count=84367),\n Row(subreddit='funsized', count=84345),\n Row(subreddit='asiangirls4whitecocks', count=84310),\n Row(subreddit='cumsluts', count=84257),\n Row(subreddit='RealHomePorn', count=84083),\n Row(subreddit='manhwa', count=83984),\n Row(subreddit='JackSucksAtLife', count=83775),\n Row(subreddit='GetKarma_Here', count=83669),\n Row(subreddit='artcommissions', count=83516),\n Row(subreddit='JerkBudddies', count=83505),\n Row(subreddit='SensationalDiscount', count=83465),\n Row(subreddit='PokemonHome', count=83462),\n Row(subreddit='Piracy', count=83438),\n Row(subreddit='spiders', count=83434),\n Row(subreddit='PolishRoleplayHeaven', count=83272),\n Row(subreddit='findfashion', count=83201),\n Row(subreddit='BabyBumps', count=83178),\n Row(subreddit='CollegeAmateurs', count=83154),\n Row(subreddit='NJr4r', count=83130),\n Row(subreddit='ftm', count=83087),\n Row(subreddit='CougarsForCubs', count=83081),\n Row(subreddit='BrandonDE', count=83059),\n Row(subreddit='TheGirlNextDoorNSFW', count=83032),\n Row(subreddit='r4rtoronto', count=82948),\n Row(subreddit='ThickChixxx', count=82862),\n Row(subreddit='whatcarshouldIbuy', count=82700),\n Row(subreddit='thefinals', count=82628),\n Row(subreddit='dadbod', count=82471),\n Row(subreddit='ElPasoSwingerss', count=82299),\n Row(subreddit='Humongousaurustits', count=82280),\n Row(subreddit='borrow', count=82204),\n Row(subreddit='Yologirlsnetwork', count=82028),\n Row(subreddit='GlobalOffensive', count=81999),\n Row(subreddit='argentina', count=81885),\n Row(subreddit='suckingdicks4celebs', count=81803),\n Row(subreddit='reddeadredemption', count=81773),\n Row(subreddit='NBA2k', count=81681),\n Row(subreddit='HornyRoleplay', count=81674),\n Row(subreddit='Thigh', count=81666),\n Row(subreddit='PersonalFinanceCanada', count=81637),\n Row(subreddit='BreedingR4R', count=81605),\n Row(subreddit='Fantasy_Football', count=81501),\n Row(subreddit='monopolygo_fairtrade', count=81467),\n Row(subreddit='gaybears', count=81420),\n Row(subreddit='wow', count=81417),\n Row(subreddit='jerkbudsssss2024', count=81354),\n Row(subreddit='brasil', count=81271),\n Row(subreddit='Couplesporn', count=81259),\n Row(subreddit='JTIA', count=81258),\n Row(subreddit='bustymom', count=81218),\n Row(subreddit='crochet', count=81174),\n Row(subreddit='collegensfw', count=81083),\n Row(subreddit='ClothedForPrejacs', count=80957),\n Row(subreddit='RedditorCum', count=80633),\n Row(subreddit='UFOs', count=80546),\n Row(subreddit='TeensMeetTeens', count=80544),\n Row(subreddit='playboicarti', count=80298),\n Row(subreddit='ScotlandR4R', count=80233),\n Row(subreddit='skyrim', count=80202),\n Row(subreddit='BigBoobsGW', count=79945),\n Row(subreddit='FanslyBustyGirls', count=79915),\n Row(subreddit='CPTSD', count=79896),\n Row(subreddit='YouTube_startups', count=79860),\n Row(subreddit='stlouisgw', count=79845),\n Row(subreddit='pokemontrades', count=79666),\n Row(subreddit='commissions', count=79651),\n Row(subreddit='masturbation', count=79634),\n Row(subreddit='aiArt', count=79539),\n Row(subreddit='CockCompareWorship', count=79529),\n Row(subreddit='MtF', count=79456),\n Row(subreddit='Justice_Served', count=79416),\n Row(subreddit='FanslyCurvy', count=79386),\n Row(subreddit='wank_battles_here', count=79365),\n Row(subreddit='snapchat_slut', count=79306),\n Row(subreddit='JerkOffToAnime', count=79306),\n Row(subreddit='KendrickLamar', count=79141),\n Row(subreddit='Snapchat_Thots', count=79089),\n Row(subreddit='girlstojerkof', count=79084),\n Row(subreddit='TwoXChromosomes', count=79072),\n Row(subreddit='cheatingwives', count=79067),\n Row(subreddit='Art', count=79060),\n Row(subreddit='R4R30Plus', count=78924),\n Row(subreddit='LegalAdviceUK', count=78841),\n Row(subreddit='SextSnap', count=78747),\n Row(subreddit='SpreadEm', count=78714),\n Row(subreddit='truerateme', count=78529),\n Row(subreddit='ExposeSissies', count=78495),\n Row(subreddit='BisexualFantasy', count=78485),\n Row(subreddit='australia', count=78363),\n Row(subreddit='JizzedToThiss', count=78118),\n Row(subreddit='DermatologyQuestions', count=78111),\n Row(subreddit='happy_nsfw', count=77955),\n Row(subreddit='realsexyselfies', count=77623),\n Row(subreddit='college', count=77618),\n Row(subreddit='baseball', count=77616),\n Row(subreddit='TransTease', count=77608),\n Row(subreddit='Fresnoswingers', count=77553),\n Row(subreddit='OCD', count=77483),\n Row(subreddit='Anal_witch', count=77253),\n Row(subreddit='GOONEDISBACK', count=77188),\n Row(subreddit='europe', count=77098),\n Row(subreddit='Breedmywife', count=77083),\n Row(subreddit='OldSchoolCool', count=77072),\n Row(subreddit='itookapicture', count=77024),\n Row(subreddit='loseit', count=77001),\n Row(subreddit='mexico', count=76999),\n Row(subreddit='sexypineapples', count=76977),\n Row(subreddit='jav', count=76961),\n Row(subreddit='tressless', count=76942),\n Row(subreddit='explainlikeimfive', count=76930),\n Row(subreddit='dogs', count=76878),\n Row(subreddit='Regional', count=76843),\n Row(subreddit='Pengangguran', count=76835),\n Row(subreddit='PetiteAndTiny', count=76818),\n Row(subreddit='Wife', count=76800),\n Row(subreddit='altgonewild', count=76709),\n Row(subreddit='DragonballLegends', count=76620),\n Row(subreddit='broslikeus', count=76618),\n Row(subreddit='BDSMGW', count=76547),\n Row(subreddit='iamatease', count=76519),\n Row(subreddit='Elpasopersonals', count=76514),\n Row(subreddit='indiasocial', count=76489),\n Row(subreddit='Steam', count=76428),\n Row(subreddit='WomenBendingOver', count=76423),\n Row(subreddit='FanslyGenZ', count=76420),\n Row(subreddit='MakeMeFeelGood', count=76281),\n Row(subreddit='BigBelliesAndHangers', count=76158),\n Row(subreddit='GetMoreViewsYT', count=76153),\n Row(subreddit='dankmemes', count=76133),\n Row(subreddit='247_Porn', count=76129),\n Row(subreddit='kpop', count=76047),\n Row(subreddit='collegeboys', count=76032),\n Row(subreddit='AmateurPornGW', count=76012),\n Row(subreddit='askdentists', count=75969),\n Row(subreddit='exxxchange', count=75964),\n Row(subreddit='gonewildamateursluts', count=75956),\n Row(subreddit='developersIndia', count=75944),\n Row(subreddit='Rateme', count=75882),\n Row(subreddit='htxgaybros', count=75871),\n Row(subreddit='Ratemypussy', count=75781),\n Row(subreddit='TalesofBBCSluts', count=75715),\n Row(subreddit='momnsfw', count=75659),\n Row(subreddit='u_api_e2e_smoke_no_adm', count=75633),\n Row(subreddit='VirtualYoutubers', count=75575),\n Row(subreddit='gonewildcouples', count=75515),\n Row(subreddit='manass', count=75479),\n Row(subreddit='TeenBeauties', count=75464),\n Row(subreddit='HornyGirlsHub', count=75384),\n Row(subreddit='BOOBS2ASS', count=75375),\n Row(subreddit='Palworld', count=75283),\n Row(subreddit='food', count=75276),\n Row(subreddit='sissyplace', count=75253),\n Row(subreddit='YouTubeSubscribeBoost', count=75160),\n Row(subreddit='HotWheels', count=75033),\n Row(subreddit='thong', count=74966),\n Row(subreddit='footballmanagergames', count=74902),\n Row(subreddit='destiny2', count=74872),\n Row(subreddit='SoccerMomsGW', count=74830),\n Row(subreddit='blackcock', count=74803),\n Row(subreddit='AMA', count=74728),\n Row(subreddit='bottomsfordaddy', count=74701),\n Row(subreddit='Doggystyle_NSFW', count=74698),\n Row(subreddit='pussyfest', count=74620),\n Row(subreddit='BBCaddicts', count=74582),\n Row(subreddit='NoMansSkyTheGame', count=74526),\n Row(subreddit='StableDiffusion', count=74526),\n Row(subreddit='BeastRoleplayers', count=74487),\n Row(subreddit='Damnthatsinteresting', count=74402),\n Row(subreddit='RocketLeague', count=74397),\n Row(subreddit='questions', count=74366),\n Row(subreddit='crazy_blogger', count=74363),\n Row(subreddit='Catholicism', count=74362),\n Row(subreddit='Titties', count=74264),\n Row(subreddit='DirtySnapchatSext', count=74038),\n Row(subreddit='confessions', count=74029),\n Row(subreddit='amateurpictures', count=73816),\n Row(subreddit='CallOfDuty', count=73635),\n Row(subreddit='kiksextingg', count=73594),\n Row(subreddit='BollyBlindsNGossip', count=73573),\n Row(subreddit='BestTits', count=73486),\n Row(subreddit='ireland', count=73460),\n Row(subreddit='hardnipple', count=73427),\n Row(subreddit='pchelp', count=73423),\n Row(subreddit='malehairadvice', count=73317),\n Row(subreddit='SexyButNotNude', count=73232),\n Row(subreddit='bangalore', count=73154),\n Row(subreddit='SummertimeGirls', count=73137),\n Row(subreddit='gothsluts', count=73135),\n Row(subreddit='snapleaks', count=73097),\n Row(subreddit='GodBody', count=72993),\n Row(subreddit='MassiveTitsnAss', count=72899),\n Row(subreddit='MalesMasturbating', count=72879),\n Row(subreddit='CuteGuyButts', count=72763),\n Row(subreddit='JerkOffOnCam', count=72736),\n Row(subreddit='comics', count=72694),\n Row(subreddit='BrownHotties', count=72667),\n Row(subreddit='coins', count=72569),\n Row(subreddit='OnlyFans101BustyBabes', count=72566),\n Row(subreddit='USCIS', count=72558),\n Row(subreddit='Trophies', count=72499),\n Row(subreddit='StreetFighter', count=72495),\n Row(subreddit='AskMechanics', count=72467),\n Row(subreddit='bignaturaltitties', count=72461),\n Row(subreddit='F4M1', count=72442),\n Row(subreddit='fantasyfootball', count=72308),\n Row(subreddit='rant', count=72233),\n Row(subreddit='porn_gifs', count=72000),\n Row(subreddit='AmazingCurves', count=71919),\n Row(subreddit='OculusReferralLinks', count=71845),\n Row(subreddit='Gunpla', count=71726),\n Row(subreddit='WrestleWankRevamped', count=71693),\n Row(subreddit='AskVet', count=71654),\n Row(subreddit='Lopiuij', count=71618),\n Row(subreddit='formula1', count=71613),\n Row(subreddit='MichiganMFM', count=71526),\n Row(subreddit='realbikinis', count=71497),\n Row(subreddit='Babes', count=71352),\n Row(subreddit='NewTubers', count=71081),\n Row(subreddit='adultingph', count=71007),\n Row(subreddit='OnlyFansBrunette', count=70638),\n Row(subreddit='KarmaNSFW18', count=70595),\n Row(subreddit='britishboobies', count=70574),\n Row(subreddit='germany', count=70371),\n Row(subreddit='FutaRoleplayPalace', count=70336),\n Row(subreddit='u_Glitzzx', count=70255),\n Row(subreddit='Adorable_Girls', count=70231),\n Row(subreddit='DeusasRoleplay', count=70226),\n Row(subreddit='todayilearned', count=70188),\n Row(subreddit='hiphopheads', count=70161),\n Row(subreddit='ChiBurbsr4r', count=70117),\n Row(subreddit='faceandcock', count=70110),\n Row(subreddit='itsoktobeacuckold', count=70109),\n Row(subreddit='medical', count=70074),\n Row(subreddit='CasualPH', count=70038),\n Row(subreddit='RealGirls', count=70020),\n Row(subreddit='analog', count=69996),\n Row(subreddit='InfluencerNSFW', count=69983),\n Row(subreddit='BeelcitosMemes', count=69876),\n Row(subreddit='CallOfDutyMobile', count=69870),\n Row(subreddit='DreamlightValley', count=69856),\n Row(subreddit='fanduel', count=69836),\n Row(subreddit='hardwareswap', count=69722),\n Row(subreddit='HomewreckersOnlyfans', count=69619),\n Row(subreddit='HungryArtists', count=69533),\n Row(subreddit='ClashOfClansRecruit', count=69529),\n Row(subreddit='snapchat', count=69511),\n Row(subreddit='GonewildGBUK', count=69475),\n Row(subreddit='StarWars', count=69464),\n Row(subreddit='LAREDOSX', count=69444),\n Row(subreddit='pathofexile', count=69411),\n Row(subreddit='PussyFlashing', count=69383),\n Row(subreddit='SpidermanPS4', count=69372),\n Row(subreddit='MobileLegendsGame', count=69341),\n Row(subreddit='CockCompareReq', count=69320),\n Row(subreddit='cock_comparerequest', count=69268),\n Row(subreddit='GirlsWhoEnjoySex', count=69254),\n Row(subreddit='UKHOOKUPSTONIGHT', count=69221),\n Row(subreddit='NYr4r', count=69213),\n Row(subreddit='GYM', count=69153),\n Row(subreddit='Longislandhookups', count=69120),\n Row(subreddit='Spiderman', count=69066),\n Row(subreddit='youtubepromotion', count=69005),\n Row(subreddit='milf', count=68946),\n Row(subreddit='classicwow', count=68812),\n Row(subreddit='FemboyHentai', count=68802),\n Row(subreddit='losangelespersonals', count=68800),\n Row(subreddit='CleaningTips', count=68728),\n Row(subreddit='TributeMe', count=68664),\n Row(subreddit='LondonGay', count=68607),\n Row(subreddit='meirl', count=68555),\n Row(subreddit='SissyChastity', count=68384),\n Row(subreddit='bodyswap', count=68294),\n Row(subreddit='ExNoContact', count=68285),\n Row(subreddit='Thick_Ladies', count=68157),\n Row(subreddit='spotify', count=68047),\n Row(subreddit='Teachers', count=68023),\n Row(subreddit='Accounting', count=67910),\n Row(subreddit='BustyPetite', count=67784),\n Row(subreddit='DumpsterSluts', count=67711),\n Row(subreddit='SonicTheHedgehog', count=67610),\n Row(subreddit='MarriedandTakencock', count=67591),\n Row(subreddit='nsfw_gifs', count=67573),\n Row(subreddit='confession', count=67545),\n Row(subreddit='armoredcore', count=67528),\n Row(subreddit='SissyInspiration', count=67446),\n Row(subreddit='DeusasRpNew', count=67374),\n Row(subreddit='NZGirlsGW', count=67184),\n Row(subreddit='Blondes', count=67158),\n Row(subreddit='OnePiecePowerScaling', count=67082),\n Row(subreddit='Bbwmilf', count=66893),\n Row(subreddit='FitNakedGirls', count=66863),\n Row(subreddit='DokkanBattleCommunity', count=66836),\n Row(subreddit='pussy', count=66832),\n Row(subreddit='Stacked', count=66816),\n Row(subreddit='Sexy_Asians', count=66697),\n Row(subreddit='boysgonewild', count=66694),\n Row(subreddit='CNC_Connect', count=66693),\n Row(subreddit='TinyTits', count=66649),\n Row(subreddit='hotgirlsandwives', count=66637),\n Row(subreddit='ColoradoSex', count=66576),\n Row(subreddit='hvacadvice', count=66575),\n Row(subreddit='midjourney', count=66290),\n Row(subreddit='gaychats', count=66203),\n Row(subreddit='wichsbrosmontaggggg', count=66179),\n Row(subreddit='USJobLeads', count=66107),\n Row(subreddit='OnlyFansJustRight', count=66103),\n Row(subreddit='Hololive', count=66101),\n Row(subreddit='OnlyIfShesPackin', count=66093),\n Row(subreddit='RolePlayBuddyReboot', count=65973),\n Row(subreddit='OnlyFansFaces', count=65946),\n Row(subreddit='Nails', count=65938),\n Row(subreddit='needyass', count=65899),\n Row(subreddit='canada', count=65869),\n Row(subreddit='suggestmeabook', count=65864),\n ...]"
          },
          "metadata": {}
        }
      ],
      "execution_count": 26,
      "metadata": {
        "jupyter": {
          "source_hidden": false,
          "outputs_hidden": false
        },
        "nteract": {
          "transient": {
            "deleting": false
          }
        },
        "gather": {
          "logged": 1731345664595
        }
      }
    },
    {
      "cell_type": "code",
      "source": [
        "top_n = 10\n",
        "top_n_subreddits = spark.createDataFrame(submissions_by_subreddit[:top_n]).toPandas()\n",
        "top_n_subreddits"
      ],
      "outputs": [
        {
          "output_type": "display_data",
          "data": {
            "application/vnd.livy.statement-meta+json": {
              "spark_pool": "b1cc13f1-0ee0-4cd0-88e0-b9f032c88fe6",
              "statement_id": 32,
              "statement_ids": [
                32
              ],
              "state": "finished",
              "livy_statement_state": "available",
              "spark_jobs": {
                "numbers": {
                  "RUNNING": 0,
                  "SUCCEEDED": 1,
                  "FAILED": 0,
                  "UNKNOWN": 0
                },
                "jobs": [
                  {
                    "displayName": "toPandas at /tmp/ipykernel_8282/971317376.py:2",
                    "dataWritten": 0,
                    "dataRead": 0,
                    "rowCount": 0,
                    "usageDescription": "",
                    "jobId": 24,
                    "name": "toPandas at /tmp/ipykernel_8282/971317376.py:2",
                    "description": "Job group for statement 32:\ntop_n = 10\ntop_n_subreddits = spark.createDataFrame(submissions_by_subreddit[:top_n]).toPandas()\ntop_n_subreddits",
                    "submissionTime": "2024-11-11T17:21:19.430GMT",
                    "completionTime": "2024-11-11T17:21:30.077GMT",
                    "stageIds": [
                      34
                    ],
                    "jobGroup": "32",
                    "status": "SUCCEEDED",
                    "numTasks": 24,
                    "numActiveTasks": 0,
                    "numCompletedTasks": 24,
                    "numSkippedTasks": 0,
                    "numFailedTasks": 0,
                    "numKilledTasks": 0,
                    "numCompletedIndices": 24,
                    "numActiveStages": 0,
                    "numCompletedStages": 1,
                    "numSkippedStages": 0,
                    "numFailedStages": 0,
                    "killedTasksSummary": {}
                  }
                ],
                "limit": 20,
                "rule": "ALL_DESC"
              },
              "session_id": "1",
              "normalized_state": "finished",
              "queued_time": "2024-11-11T17:21:09.2937572Z",
              "session_start_time": null,
              "execution_start_time": "2024-11-11T17:21:09.4554793Z",
              "execution_finish_time": "2024-11-11T17:21:31.4644052Z",
              "parent_msg_id": "e26a3661-30b0-47e1-8d6e-76e7508bbe93"
            },
            "text/plain": "StatementMeta(b1cc13f1-0ee0-4cd0-88e0-b9f032c88fe6, 1, 32, Finished, Available, Finished)"
          },
          "metadata": {}
        },
        {
          "output_type": "execute_result",
          "execution_count": 63,
          "data": {
            "text/plain": "              subreddit    count\n0              dirtyr4r  3633005\n1           JerkOffChat  3616759\n2             AskReddit  2686082\n3     GaySnapchatImages  2655639\n4      GaySnapchatShare  2641484\n5         DirtySnapchat  1986200\n6        PokemonGoRaids  1341799\n7       slutsofsnapchat  1334782\n8  PersonalizedGameRecs  1325223\n9    HentaiAndRoleplayy  1315212",
            "text/html": "<div>\n<style scoped>\n    .dataframe tbody tr th:only-of-type {\n        vertical-align: middle;\n    }\n\n    .dataframe tbody tr th {\n        vertical-align: top;\n    }\n\n    .dataframe thead th {\n        text-align: right;\n    }\n</style>\n<table border=\"1\" class=\"dataframe\">\n  <thead>\n    <tr style=\"text-align: right;\">\n      <th></th>\n      <th>subreddit</th>\n      <th>count</th>\n    </tr>\n  </thead>\n  <tbody>\n    <tr>\n      <th>0</th>\n      <td>dirtyr4r</td>\n      <td>3633005</td>\n    </tr>\n    <tr>\n      <th>1</th>\n      <td>JerkOffChat</td>\n      <td>3616759</td>\n    </tr>\n    <tr>\n      <th>2</th>\n      <td>AskReddit</td>\n      <td>2686082</td>\n    </tr>\n    <tr>\n      <th>3</th>\n      <td>GaySnapchatImages</td>\n      <td>2655639</td>\n    </tr>\n    <tr>\n      <th>4</th>\n      <td>GaySnapchatShare</td>\n      <td>2641484</td>\n    </tr>\n    <tr>\n      <th>5</th>\n      <td>DirtySnapchat</td>\n      <td>1986200</td>\n    </tr>\n    <tr>\n      <th>6</th>\n      <td>PokemonGoRaids</td>\n      <td>1341799</td>\n    </tr>\n    <tr>\n      <th>7</th>\n      <td>slutsofsnapchat</td>\n      <td>1334782</td>\n    </tr>\n    <tr>\n      <th>8</th>\n      <td>PersonalizedGameRecs</td>\n      <td>1325223</td>\n    </tr>\n    <tr>\n      <th>9</th>\n      <td>HentaiAndRoleplayy</td>\n      <td>1315212</td>\n    </tr>\n  </tbody>\n</table>\n</div>"
          },
          "metadata": {}
        }
      ],
      "execution_count": 27,
      "metadata": {
        "jupyter": {
          "source_hidden": false,
          "outputs_hidden": false
        },
        "nteract": {
          "transient": {
            "deleting": false
          }
        },
        "gather": {
          "logged": 1731345691597
        }
      }
    },
    {
      "cell_type": "markdown",
      "source": [
        "## Plot a bar chart for the top 10 most popular by submission count"
      ],
      "metadata": {
        "nteract": {
          "transient": {
            "deleting": false
          }
        }
      }
    },
    {
      "cell_type": "code",
      "source": [
        "## Import data visualization packages\n",
        "import matplotlib.pyplot as plt\n",
        "plt.rcParams['figure.figsize'] = [15, 5]\n",
        "plt.bar(\"subreddit\", \"count\", data = top_n_subreddits, color = \"blue\")\n",
        "plt.xlabel(\"subreddit\")\n",
        "plt.ylabel(\"Submission Count\")\n",
        "plt.title(f\"Top {top_n} subreddits by suybmission count\")\n",
        "\n"
      ],
      "outputs": [
        {
          "output_type": "display_data",
          "data": {
            "application/vnd.livy.statement-meta+json": {
              "spark_pool": "b1cc13f1-0ee0-4cd0-88e0-b9f032c88fe6",
              "statement_id": 40,
              "statement_ids": [
                40
              ],
              "state": "finished",
              "livy_statement_state": "available",
              "spark_jobs": {
                "numbers": {
                  "RUNNING": 0,
                  "SUCCEEDED": 0,
                  "FAILED": 0,
                  "UNKNOWN": 0
                },
                "jobs": [],
                "limit": 20,
                "rule": "ALL_DESC"
              },
              "session_id": "1",
              "normalized_state": "finished",
              "queued_time": "2024-11-11T17:38:01.980559Z",
              "session_start_time": null,
              "execution_start_time": "2024-11-11T17:38:02.1010362Z",
              "execution_finish_time": "2024-11-11T17:38:03.6593255Z",
              "parent_msg_id": "6044841c-9340-4f02-8c84-df3bca83f38d"
            },
            "text/plain": "StatementMeta(b1cc13f1-0ee0-4cd0-88e0-b9f032c88fe6, 1, 40, Finished, Available, Finished)"
          },
          "metadata": {}
        },
        {
          "output_type": "execute_result",
          "execution_count": 79,
          "data": {
            "text/plain": "Text(0.5, 1.0, 'Top 10 subreddits by suybmission count')"
          },
          "metadata": {}
        },
        {
          "output_type": "display_data",
          "data": {
            "text/plain": "<Figure size 1500x500 with 1 Axes>",
            "image/png": "[encoded data removed]"
          },
          "metadata": {}
        }
      ],
      "execution_count": 35,
      "metadata": {
        "jupyter": {
          "source_hidden": false,
          "outputs_hidden": false
        },
        "nteract": {
          "transient": {
            "deleting": false
          }
        },
        "gather": {
          "logged": 1731346683809
        }
      }
    },
    {
      "cell_type": "code",
      "source": [
        "os.getcwd()"
      ],
      "outputs": [
        {
          "output_type": "display_data",
          "data": {
            "application/vnd.livy.statement-meta+json": {
              "spark_pool": "b1cc13f1-0ee0-4cd0-88e0-b9f032c88fe6",
              "statement_id": 33,
              "statement_ids": [
                33
              ],
              "state": "finished",
              "livy_statement_state": "available",
              "spark_jobs": {
                "numbers": {
                  "RUNNING": 0,
                  "SUCCEEDED": 0,
                  "FAILED": 0,
                  "UNKNOWN": 0
                },
                "jobs": [],
                "limit": 20,
                "rule": "ALL_DESC"
              },
              "session_id": "1",
              "normalized_state": "finished",
              "queued_time": "2024-11-11T17:23:01.8764997Z",
              "session_start_time": null,
              "execution_start_time": "2024-11-11T17:23:02.0248493Z",
              "execution_finish_time": "2024-11-11T17:23:02.335968Z",
              "parent_msg_id": "2d934e68-0056-4684-8993-402151f1826b"
            },
            "text/plain": "StatementMeta(b1cc13f1-0ee0-4cd0-88e0-b9f032c88fe6, 1, 33, Finished, Available, Finished)"
          },
          "metadata": {}
        },
        {
          "output_type": "execute_result",
          "execution_count": 65,
          "data": {
            "text/plain": "'/synfs/notebook/1/aml_notebook_mount'"
          },
          "metadata": {}
        }
      ],
      "execution_count": 28,
      "metadata": {
        "jupyter": {
          "source_hidden": false,
          "outputs_hidden": false
        },
        "nteract": {
          "transient": {
            "deleting": false
          }
        },
        "gather": {
          "logged": 1731345782469
        }
      }
    },
    {
      "cell_type": "code",
      "source": [
        "os.listdir(\"Users/mv559/\")"
      ],
      "outputs": [
        {
          "output_type": "display_data",
          "data": {
            "application/vnd.livy.statement-meta+json": {
              "spark_pool": "b1cc13f1-0ee0-4cd0-88e0-b9f032c88fe6",
              "statement_id": 36,
              "statement_ids": [
                36
              ],
              "state": "finished",
              "livy_statement_state": "available",
              "spark_jobs": {
                "numbers": {
                  "RUNNING": 0,
                  "SUCCEEDED": 0,
                  "FAILED": 0,
                  "UNKNOWN": 0
                },
                "jobs": [],
                "limit": 20,
                "rule": "ALL_DESC"
              },
              "session_id": "1",
              "normalized_state": "finished",
              "queued_time": "2024-11-11T17:24:36.8023479Z",
              "session_start_time": null,
              "execution_start_time": "2024-11-11T17:24:37.6017383Z",
              "execution_finish_time": "2024-11-11T17:24:37.9021738Z",
              "parent_msg_id": "054a7310-4bfb-472f-aaa2-1b1833d8f0f9"
            },
            "text/plain": "StatementMeta(b1cc13f1-0ee0-4cd0-88e0-b9f032c88fe6, 1, 36, Finished, Available, Finished)"
          },
          "metadata": {}
        },
        {
          "output_type": "execute_result",
          "execution_count": 71,
          "data": {
            "text/plain": "['azureml-ray',\n 'dask-on-azureml-sample',\n 'fall-2024-project-team-test',\n 'project-tutorials',\n 'ray-on-azureml']"
          },
          "metadata": {}
        }
      ],
      "execution_count": 31,
      "metadata": {
        "jupyter": {
          "source_hidden": false,
          "outputs_hidden": false
        },
        "nteract": {
          "transient": {
            "deleting": false
          }
        },
        "gather": {
          "logged": 1731345878050
        }
      }
    },
    {
      "cell_type": "code",
      "source": [
        "## create a directory called data/plots and data/csv to save generated data\n",
        "import os\n",
        "NET_ID = \"mv559\" # ENTER YOUR NETID WITHOUT @georgetown.edu\"\n",
        "PROJECT_REPO_NAME = \"fall-2024-project-team-test\" # ENTER YOUR PROJECT REPO NAME\n",
        "BASE_PATH = os.getcwd()\n",
        "PLOT_PATH = f\"{BASE_PATH}/Users/{NET_ID}/{PROJECT_REPO_NAME}/data/plots\"\n",
        "CSV_PATH = f\"{BASE_PATH}/Users/{NET_ID}/{PROJECT_REPO_NAME}/data/csv\""
      ],
      "outputs": [
        {
          "output_type": "display_data",
          "data": {
            "application/vnd.livy.statement-meta+json": {
              "spark_pool": "b1cc13f1-0ee0-4cd0-88e0-b9f032c88fe6",
              "statement_id": 42,
              "statement_ids": [
                42
              ],
              "state": "finished",
              "livy_statement_state": "available",
              "spark_jobs": {
                "numbers": {
                  "RUNNING": 0,
                  "SUCCEEDED": 0,
                  "FAILED": 0,
                  "UNKNOWN": 0
                },
                "jobs": [],
                "limit": 20,
                "rule": "ALL_DESC"
              },
              "session_id": "1",
              "normalized_state": "finished",
              "queued_time": "2024-11-11T17:40:12.7716667Z",
              "session_start_time": null,
              "execution_start_time": "2024-11-11T17:40:12.8918883Z",
              "execution_finish_time": "2024-11-11T17:40:13.2177327Z",
              "parent_msg_id": "572754ce-c3e3-4529-9bc3-9c538fe8b5ef"
            },
            "text/plain": "StatementMeta(b1cc13f1-0ee0-4cd0-88e0-b9f032c88fe6, 1, 42, Finished, Available, Finished)"
          },
          "metadata": {}
        }
      ],
      "execution_count": 37,
      "metadata": {
        "jupyter": {
          "source_hidden": false,
          "outputs_hidden": false
        },
        "nteract": {
          "transient": {
            "deleting": false
          }
        },
        "gather": {
          "logged": 1731346813284
        }
      }
    },
    {
      "cell_type": "code",
      "source": [
        "## Save the plot in the plot dir so that it can be checked in into the repo\n",
        "plt.savefig(f\"{PLOT_PATH}/top_{top_n}_subreddits.png\")\n",
        "plt.show()"
      ],
      "outputs": [
        {
          "output_type": "display_data",
          "data": {
            "application/vnd.livy.statement-meta+json": {
              "spark_pool": "b1cc13f1-0ee0-4cd0-88e0-b9f032c88fe6",
              "statement_id": 43,
              "statement_ids": [
                43
              ],
              "state": "finished",
              "livy_statement_state": "available",
              "spark_jobs": {
                "numbers": {
                  "RUNNING": 0,
                  "SUCCEEDED": 0,
                  "FAILED": 0,
                  "UNKNOWN": 0
                },
                "jobs": [],
                "limit": 20,
                "rule": "ALL_DESC"
              },
              "session_id": "1",
              "normalized_state": "finished",
              "queued_time": "2024-11-11T17:40:22.4175017Z",
              "session_start_time": null,
              "execution_start_time": "2024-11-11T17:40:22.535504Z",
              "execution_finish_time": "2024-11-11T17:40:22.8383841Z",
              "parent_msg_id": "db028ef1-d6bc-4a35-b220-520c98fdf992"
            },
            "text/plain": "StatementMeta(b1cc13f1-0ee0-4cd0-88e0-b9f032c88fe6, 1, 43, Finished, Available, Finished)"
          },
          "metadata": {}
        },
        {
          "output_type": "display_data",
          "data": {
            "text/plain": "<Figure size 1500x500 with 0 Axes>"
          },
          "metadata": {}
        }
      ],
      "execution_count": 38,
      "metadata": {
        "jupyter": {
          "source_hidden": false,
          "outputs_hidden": false
        },
        "nteract": {
          "transient": {
            "deleting": false
          }
        },
        "gather": {
          "logged": 1731346822929
        }
      }
    },
    {
      "cell_type": "markdown",
      "source": [
        "### Saving intermediate data"
      ],
      "metadata": {
        "nteract": {
          "transient": {
            "deleting": false
          }
        }
      }
    },
    {
      "cell_type": "markdown",
      "source": [
        "The intermediate outputs go into the azureml workspace attached storage using the URI `azureml://datastores/workspaceblobstore/paths/<PATH-TO_STORE>` this is the same for all workspaces. Then to re-load you use the same URI"
      ],
      "metadata": {
        "nteract": {
          "transient": {
            "deleting": false
          }
        }
      }
    },
    {
      "cell_type": "code",
      "source": [
        "datastore = 'azureml://datastores/workspaceblobstore/paths'\n",
        "comments_single_df.write.parquet(f\"{datastore}/memes.parquet\")"
      ],
      "outputs": [
        {
          "output_type": "display_data",
          "data": {
            "application/vnd.livy.statement-meta+json": {
              "spark_pool": "b1cc13f1-0ee0-4cd0-88e0-b9f032c88fe6",
              "statement_id": 48,
              "statement_ids": [
                48
              ],
              "state": "finished",
              "livy_statement_state": "available",
              "spark_jobs": {
                "numbers": {
                  "RUNNING": 0,
                  "SUCCEEDED": 1,
                  "FAILED": 0,
                  "UNKNOWN": 0
                },
                "jobs": [
                  {
                    "displayName": "parquet at NativeMethodAccessorImpl.java:0",
                    "dataWritten": 149885318,
                    "dataRead": 104424171,
                    "rowCount": 2000000,
                    "usageDescription": "",
                    "jobId": 27,
                    "name": "parquet at NativeMethodAccessorImpl.java:0",
                    "description": "Job group for statement 48:\ndatastore = 'azureml://datastores/workspaceblobstore/paths'\ncomments_single_df.write.parquet(f\"{datastore}/memes.parquet\")",
                    "submissionTime": "2024-11-11T17:51:36.235GMT",
                    "completionTime": "2024-11-11T17:51:51.323GMT",
                    "stageIds": [
                      38
                    ],
                    "jobGroup": "48",
                    "status": "SUCCEEDED",
                    "numTasks": 24,
                    "numActiveTasks": 0,
                    "numCompletedTasks": 24,
                    "numSkippedTasks": 0,
                    "numFailedTasks": 0,
                    "numKilledTasks": 0,
                    "numCompletedIndices": 24,
                    "numActiveStages": 0,
                    "numCompletedStages": 1,
                    "numSkippedStages": 0,
                    "numFailedStages": 0,
                    "killedTasksSummary": {}
                  }
                ],
                "limit": 20,
                "rule": "ALL_DESC"
              },
              "session_id": "1",
              "normalized_state": "finished",
              "queued_time": "2024-11-11T17:51:34.6881424Z",
              "session_start_time": null,
              "execution_start_time": "2024-11-11T17:51:34.8294778Z",
              "execution_finish_time": "2024-11-11T17:51:53.3358335Z",
              "parent_msg_id": "132ba1de-4f9a-44eb-870d-dbf71bc86971"
            },
            "text/plain": "StatementMeta(b1cc13f1-0ee0-4cd0-88e0-b9f032c88fe6, 1, 48, Finished, Available, Finished)"
          },
          "metadata": {}
        }
      ],
      "execution_count": 43,
      "metadata": {
        "jupyter": {
          "source_hidden": false,
          "outputs_hidden": false
        },
        "nteract": {
          "transient": {
            "deleting": false
          }
        },
        "gather": {
          "logged": 1731347513391
        }
      }
    },
    {
      "cell_type": "markdown",
      "source": [
        "## Reload in future"
      ],
      "metadata": {
        "nteract": {
          "transient": {
            "deleting": false
          }
        }
      }
    },
    {
      "cell_type": "code",
      "source": [
        "comments_single_df_load = spark.read.parquet(f\"{datastore}/memes.parquet\")"
      ],
      "outputs": [
        {
          "output_type": "display_data",
          "data": {
            "application/vnd.livy.statement-meta+json": {
              "spark_pool": "cf47b043-0c98-4514-b15a-1e3237e3aed3",
              "session_id": "23",
              "statement_id": 14,
              "state": "finished",
              "livy_statement_state": "available",
              "queued_time": "2023-10-17T22:05:54.6649505Z",
              "session_start_time": null,
              "execution_start_time": "2023-10-17T22:05:54.7486292Z",
              "execution_finish_time": "2023-10-17T22:05:55.6580027Z",
              "spark_jobs": {
                "numbers": {
                  "RUNNING": 0,
                  "UNKNOWN": 0,
                  "SUCCEEDED": 1,
                  "FAILED": 0
                },
                "jobs": [
                  {
                    "displayName": "parquet at NativeMethodAccessorImpl.java:0",
                    "dataWritten": 0,
                    "dataRead": 0,
                    "rowCount": 0,
                    "usageDescription": "",
                    "jobId": 3,
                    "name": "parquet at NativeMethodAccessorImpl.java:0",
                    "description": "Job group for statement 14:\ncomments_single_df_load = spark.read.parquet(f\"{datastore}/memes.parquet\")",
                    "submissionTime": "2023-10-17T22:05:55.003GMT",
                    "completionTime": "2023-10-17T22:05:55.169GMT",
                    "stageIds": [
                      3
                    ],
                    "jobGroup": "14",
                    "status": "SUCCEEDED",
                    "numTasks": 1,
                    "numActiveTasks": 0,
                    "numCompletedTasks": 1,
                    "numSkippedTasks": 0,
                    "numFailedTasks": 0,
                    "numKilledTasks": 0,
                    "numCompletedIndices": 1,
                    "numActiveStages": 0,
                    "numCompletedStages": 1,
                    "numSkippedStages": 0,
                    "numFailedStages": 0,
                    "killedTasksSummary": {}
                  }
                ],
                "limit": 20,
                "rule": "ALL_DESC"
              },
              "parent_msg_id": "ae5df0ea-201a-47d5-9280-3abaa9359943"
            },
            "text/plain": "StatementMeta(cf47b043-0c98-4514-b15a-1e3237e3aed3, 23, 14, Finished, Available)"
          },
          "metadata": {}
        }
      ],
      "execution_count": 9,
      "metadata": {
        "jupyter": {
          "source_hidden": false,
          "outputs_hidden": false
        },
        "nteract": {
          "transient": {
            "deleting": false
          }
        },
        "gather": {
          "logged": 1697580355321
        }
      }
    },
    {
      "cell_type": "code",
      "source": [],
      "outputs": [],
      "execution_count": null,
      "metadata": {
        "jupyter": {
          "source_hidden": false,
          "outputs_hidden": false
        },
        "nteract": {
          "transient": {
            "deleting": false
          }
        }
      }
    }
  ],
  "metadata": {
    "application/vnd.databricks.v1+notebook": {
      "dashboards": [],
      "language": "python",
      "notebookMetadata": {
        "pythonIndentUnit": 4
      },
      "notebookName": "Comments JSON to Parquet",
      "widgets": {}
    },
    "microsoft": {
      "ms_spell_check": {
        "ms_spell_check_language": "en"
      },
      "host": {
        "AzureML": {
          "notebookHasBeenCompleted": true
        }
      }
    },
    "language_info": {
      "name": "python",
      "version": "3.8.0",
      "mimetype": "text/x-python",
      "file_extension": ".py",
      "pygments_lexer": "ipython",
      "codemirror_mode": "ipython",
      "nbconvert_exporter": "python"
    },
    "kernelspec": {
      "name": "synapse_pyspark",
      "language": "Python",
      "display_name": "Synapse PySpark"
    },
    "kernel_info": {
      "name": "synapse_pyspark"
    },
    "nteract": {
      "version": "nteract-front-end@1.0.0"
    }
  },
  "nbformat": 4,
  "nbformat_minor": 0
}