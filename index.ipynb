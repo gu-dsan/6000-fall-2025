{
  "cells": [
    {
      "cell_type": "raw",
      "id": "94d21cdc",
      "metadata": {},
      "source": [
        "---\n",
        "title: \"Big Data Analytics & Cloud Computing\"\n",
        "subtitle: |\n",
        "  \"Learn how to work with Big Data for Analytics, ML and generative AI using technologies such concurrency, Spark, \n",
        "  \"Learn how to analyze Big Data using cloud computing and technologies such as Python concurrency, Spark and others in this hands-on, practical workshop-style course.\"\n",
        "details: |\n",
        "  PPOL 5206 • Spring 2024<br>Amit Arora, McCourt School of Public Policy<br>Georgetown University\n",
        "sidebar: false\n",
        "toc: false\n",
        "page-layout: full\n",
        "format:\n",
        "  html:\n",
        "    template-partials:\n",
        "      - html/home/title-block.html\n",
        "course-logo: /files/img/ppol5206-logo.png\n",
        "---"
      ]
    },
    {
      "cell_type": "code",
      "execution_count": null,
      "id": "13740e0c",
      "metadata": {
        "vscode": {
          "languageId": "python"
        }
      },
      "outputs": [],
      "source": [
        "#| echo: false\n",
        "from make_schedule_ics import make_ics\n",
        "make_ics()"
      ]
    },
    {
      "cell_type": "markdown",
      "id": "b9f67206",
      "metadata": {},
      "source": [
        "::: {.home}\n",
        "\n",
        "::: {.grid .course-details}\n",
        "\n",
        "::: {.g-col-12 .g-col-sm-6 .g-col-md-4}\n",
        "### Instructor\n",
        "\n",
        "- {{< fa user >}} &nbsp; [{{< var instructor.name >}}]({{< var instructor.url >}})\n",
        "- {{< fa university >}} &nbsp; {{< var instructor.office >}}\n",
        "- {{< fa envelope >}} &nbsp; <a href=\"mailto:{{< var instructor.email >}}\">{{< var instructor.email >}}</a>\n",
        "- {{< fa brands twitter >}} &nbsp; [{{< var instructor.twitter >}}](https://www.twitter.com/{{< var instructor.twitter >}})\n",
        "- {{< fa calendar-check >}} &nbsp; [Schedule an appointment]({{< var instructor.appointment_url >}})\n",
        ":::\n",
        "\n",
        "::: {.g-col-12 .g-col-sm-6 .g-col-md-4}\n",
        "### Course details\n",
        "\n",
        "- {{< fa calendar >}} &nbsp; {{< var course.days >}}\n",
        "- {{< fa calendar-alt >}} &nbsp; {{< var course.dates >}}\n",
        "- {{< fa clock >}} &nbsp; {{< var course.time >}}\n",
        "- {{< fa location-dot >}} &nbsp; {{< var course.location >}}\n",
        "- {{< fa brands slack >}} &nbsp; [Slack]({{< var course.slack >}})\n",
        ":::\n",
        "\n",
        "::: {.g-col-12 .g-col-md-4 .contact-policy}\n",
        "### Contacting me\n",
        "\n",
        "\n",
        "{{< var instructor.contact_policy >}}\n",
        "\n",
        "\n",
        ":::\n",
        "\n",
        ":::\n",
        "\n",
        ":::"
      ]
    }
  ],
  "metadata": {
    "kernelspec": {
      "display_name": "Python 3 (ipykernel)",
      "language": "python",
      "name": "python3"
    }
  },
  "nbformat": 4,
  "nbformat_minor": 5
}
